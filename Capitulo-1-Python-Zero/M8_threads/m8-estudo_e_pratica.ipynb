{
 "cells": [
  {
   "cell_type": "code",
   "execution_count": 1,
   "metadata": {},
   "outputs": [
    {
     "name": "stdout",
     "output_type": "stream",
     "text": [
      "Processo 1 - Tarefa 1Processo 2 - Tarefa 1\n",
      "Processo 2 - Tarefa 2\n",
      "Processo 2 - Tarefa 3\n",
      "Processo 2 - Tarefa 4\n",
      "Processo 2 - Tarefa 5\n",
      "Processo 2 - Tarefa 6\n",
      "Processo 2 - Tarefa 7\n",
      "Processo 2 - Tarefa 8\n",
      "Processo 2 - Tarefa 9\n",
      "Processo 2 - Tarefa 10\n",
      "\n",
      "Processo 1 - Tarefa 2\n",
      "Processo 1 - Tarefa 3\n",
      "Processo 1 - Tarefa 4\n",
      "Processo 1 - Tarefa 5\n",
      "Processo 1 - Tarefa 6\n",
      "Processo 1 - Tarefa 7\n",
      "Processo 1 - Tarefa 8\n",
      "Processo 1 - Tarefa 9\n",
      "Processo 1 - Tarefa 10\n"
     ]
    }
   ],
   "source": [
    "from threading import Thread\n",
    "\n",
    "def funcao1():\n",
    "    for x in range(1,11):\n",
    "        print(f\"Processo 1 - Tarefa {x}\")\n",
    "        \n",
    "def funcao2():\n",
    "    for x in range(1,11):\n",
    "        print(f\"Processo 2 - Tarefa {x}\")\n",
    "\n",
    "t1 = Thread(target=funcao1).start()\n",
    "t2 = Thread(target=funcao2).start()\n",
    "\n",
    "#est funcionando de forma paralela, por isso o out put ta assim bb"
   ]
  },
  {
   "cell_type": "code",
   "execution_count": 3,
   "metadata": {},
   "outputs": [
    {
     "name": "stdout",
     "output_type": "stream",
     "text": [
      "Processo 1 - Tarefa 1Processo 2 - Tarefa 1\n",
      "\n",
      "Processo 1 - Tarefa 2\n",
      "Processo 1 - Tarefa 3\n",
      "Processo 1 - Tarefa 4\n",
      "Processo 1 - Tarefa 5\n",
      "Processo 1 - Tarefa 6\n",
      "Processo 1 - Tarefa 7\n",
      "Processo 1 - Tarefa 8\n",
      "Processo 1 - Tarefa 9\n",
      "Processo 1 - Tarefa 10\n",
      "Processo 2 - Tarefa 2\n",
      "Processo 2 - Tarefa 3\n",
      "Processo 2 - Tarefa 4\n",
      "Processo 2 - Tarefa 5\n",
      "Processo 2 - Tarefa 6\n",
      "Processo 2 - Tarefa 7\n",
      "Processo 2 - Tarefa 8\n",
      "Processo 2 - Tarefa 9\n",
      "Processo 2 - Tarefa 10\n"
     ]
    }
   ],
   "source": [
    "from threading import Thread\n",
    "import time\n",
    "\n",
    "def funcao1():\n",
    "    for x in range(1,11):\n",
    "        print(f\"Processo 1 - Tarefa {x}\")\n",
    "        \n",
    "def funcao2():\n",
    "    for x in range(1,11):\n",
    "        print(f\"Processo 2 - Tarefa {x}\")\n",
    "        time.sleep(.02)\n",
    "        \n",
    "t1 = Thread(target=funcao1).start()\n",
    "t2 = Thread(target=funcao2).start()\n"
   ]
  },
  {
   "cell_type": "code",
   "execution_count": 5,
   "metadata": {},
   "outputs": [
    {
     "data": {
      "text/plain": [
       "<_MainThread(MainThread, started 8968)>"
      ]
     },
     "execution_count": 5,
     "metadata": {},
     "output_type": "execute_result"
    }
   ],
   "source": [
    "import threading\n",
    "import time\n",
    "\n",
    "threading.currentThread()\n",
    "\n",
    "#thread principal é o corrente / que esta funcionando neste momento ( creio que é isso bixão)"
   ]
  },
  {
   "cell_type": "code",
   "execution_count": 6,
   "metadata": {},
   "outputs": [
    {
     "data": {
      "text/plain": [
       "5"
      ]
     },
     "execution_count": 6,
     "metadata": {},
     "output_type": "execute_result"
    }
   ],
   "source": [
    "#verifica quandas threads estão ativas\n",
    "threading.active_count()"
   ]
  },
  {
   "cell_type": "code",
   "execution_count": null,
   "metadata": {},
   "outputs": [],
   "source": []
  },
  {
   "cell_type": "code",
   "execution_count": 8,
   "metadata": {},
   "outputs": [
    {
     "data": {
      "text/plain": [
       "[<_MainThread(MainThread, started 8968)>,\n",
       " <Thread(Thread-4, started daemon 3580)>,\n",
       " <Heartbeat(Thread-5, started daemon 3564)>,\n",
       " <HistorySavingThread(IPythonHistorySavingThread, started 2804)>,\n",
       " <ParentPollerWindows(Thread-3, started daemon 316)>]"
      ]
     },
     "execution_count": 8,
     "metadata": {},
     "output_type": "execute_result"
    }
   ],
   "source": [
    "#mostra uma lista de todos os threads que estão ativos\n",
    "threading.enumerate()"
   ]
  },
  {
   "cell_type": "code",
   "execution_count": 11,
   "metadata": {},
   "outputs": [
    {
     "data": {
      "text/plain": [
       "8968"
      ]
     },
     "execution_count": 11,
     "metadata": {},
     "output_type": "execute_result"
    }
   ],
   "source": [
    "# numero que identifica uma threading\n",
    "threading.get_ident()"
   ]
  },
  {
   "cell_type": "code",
   "execution_count": 18,
   "metadata": {},
   "outputs": [
    {
     "name": "stdout",
     "output_type": "stream",
     "text": [
      "Thread-24\n",
      "Thread-25\n",
      "Thread-26\n",
      "00\n",
      "\n",
      "11\n",
      "\n",
      "0\n",
      "22\n",
      "3\n",
      "4\n",
      "5\n",
      "6\n",
      "7\n",
      "1\n",
      "\n",
      "38\n",
      "4\n",
      "\n",
      "2\n",
      "3\n",
      "4\n",
      "5\n",
      "6\n",
      "7\n",
      "8\n",
      "9\n",
      "10\n",
      "95\n",
      "6\n",
      "7\n",
      "8\n",
      "9\n",
      "\n",
      "10\n",
      "10\n"
     ]
    }
   ],
   "source": [
    "# iniciar uma thread ussando classe\n",
    "from threading import Thread\n",
    "import time\n",
    "\n",
    "class Minha_thread:\n",
    "    def mostraNumeros(self):\n",
    "        i = 0\n",
    "        print(threading.current_thread().getName())\n",
    "        time.sleep(1)\n",
    "        while(i <= 10):\n",
    "            print(i)\n",
    "            i += 1\n",
    "            \n",
    "objeto = Minha_thread()\n",
    "\n",
    "thread1 = Thread(target = objeto.mostraNumeros)\n",
    "thread1.start()\n",
    "\n",
    "thread2 = Thread(target = objeto.mostraNumeros)\n",
    "thread2.start()\n",
    "\n",
    "thread3 = Thread(target = objeto.mostraNumeros)\n",
    "thread3.start()"
   ]
  },
  {
   "cell_type": "code",
   "execution_count": 3,
   "metadata": {},
   "outputs": [
    {
     "name": "stdout",
     "output_type": "stream",
     "text": [
      "square: 100\n",
      "Cube: 1000\n",
      "Done\n"
     ]
    }
   ],
   "source": [
    "# Tenta ilustra o conceito de thread\n",
    "# atraves do calculo quadrado e cubico de um numero\n",
    "\n",
    "import time\n",
    "import threading\n",
    "\n",
    "def print_square(num): #function that shows the square of the number\n",
    "    time.sleep(1)\n",
    "    print(\"square: {}\".format(num * num))\n",
    "\n",
    "def print_cube(num): #function that shows the cube of the number\n",
    "    time.sleep(10)\n",
    "    print(\"Cube: {}\".format(num * num * num))\n",
    "\n",
    "if __name__ == \"__main__\":\n",
    "    # criando thread\n",
    "    thread3 = threading.Thread(target = print_square, args = (10,))\n",
    "    thread4 = threading.Thread(target = print_cube, args = (10,))\n",
    "    \n",
    "    thread3.start()\n",
    "    thread4.start()\n",
    "    \n",
    "    thread3.join()\n",
    "    thread4.join()\n",
    "    \n",
    "print(\"Done\")    "
   ]
  },
  {
   "cell_type": "markdown",
   "metadata": {},
   "source": [
    "problema clacico da computação como: probçema do produtor e consumidor"
   ]
  },
  {
   "cell_type": "code",
   "execution_count": null,
   "metadata": {},
   "outputs": [],
   "source": []
  }
 ],
 "metadata": {
  "kernelspec": {
   "display_name": "Python 3",
   "language": "python",
   "name": "python3"
  },
  "language_info": {
   "codemirror_mode": {
    "name": "ipython",
    "version": 3
   },
   "file_extension": ".py",
   "mimetype": "text/x-python",
   "name": "python",
   "nbconvert_exporter": "python",
   "pygments_lexer": "ipython3",
   "version": "3.8.5"
  }
 },
 "nbformat": 4,
 "nbformat_minor": 4
}
