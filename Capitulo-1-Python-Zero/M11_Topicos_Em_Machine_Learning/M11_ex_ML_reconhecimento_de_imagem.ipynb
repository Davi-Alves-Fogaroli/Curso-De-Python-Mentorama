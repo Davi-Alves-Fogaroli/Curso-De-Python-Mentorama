{
 "cells": [
  {
   "cell_type": "markdown",
   "metadata": {},
   "source": [
    "Correções no import e classificador SVC feitas. Muito obtigado pelo suport\n",
    "\n",
    "from sklearn.svm import SVC\n",
    "\n",
    "clf = svm.SVC(gamma=valor_Aqui).fit(X_train, y_train)"
   ]
  },
  {
   "cell_type": "code",
   "execution_count": 1,
   "metadata": {},
   "outputs": [],
   "source": [
    "# import bibliote matplotlib\n",
    "import matplotlib.pyplot as plt\n",
    "\n",
    "# import datasets\n",
    "from sklearn import datasets\n",
    "\n",
    "# import classifiers \n",
    "from sklearn import svm\n",
    "\n",
    "# import performance\n",
    "from sklearn.model_selection import train_test_split\n",
    "\n",
    "#permite salvar um modelo de classificação treinado\n",
    "import pickle\n",
    "\n",
    "#import para manipulação de dados\n",
    "import pandas as pd\n",
    "import numpy as np\n",
    "\n",
    "#import do svc classificador\n",
    "from sklearn.svm import SVC\n",
    "\n",
    "#import para auxiliar no Cross Validation\n",
    "from sklearn.metrics import make_scorer, confusion_matrix, ConfusionMatrixDisplay\n",
    "from sklearn.metrics import f1_score,accuracy_score, precision_score, recall_score\n",
    "from sklearn import metrics\n",
    "\n",
    "#import para Cross Validation\n",
    "from sklearn.model_selection import cross_validate, train_test_split\n",
    "from sklearn.model_selection import cross_val_score"
   ]
  },
  {
   "cell_type": "markdown",
   "metadata": {},
   "source": [
    "# ------------------COMEÇO (1:A)------------------"
   ]
  },
  {
   "cell_type": "code",
   "execution_count": 2,
   "metadata": {},
   "outputs": [],
   "source": [
    "#importando data_set Mnist\n",
    "df_numeros = datasets.load_digits()"
   ]
  },
  {
   "cell_type": "markdown",
   "metadata": {},
   "source": [
    "# ------------------FIM (1:A)------------------"
   ]
  },
  {
   "cell_type": "code",
   "execution_count": 3,
   "metadata": {},
   "outputs": [
    {
     "data": {
      "image/png": "[encoded data removed]",
      "text/plain": [
       "<Figure size 720x216 with 4 Axes>"
      ]
     },
     "metadata": {
      "needs_background": "light"
     },
     "output_type": "display_data"
    }
   ],
   "source": [
    "#descompacta os valores dos dados de entrada. Define o numero, linhas e colunas\n",
    "fig, axes = plt.subplots(nrows = 1, ncols = 4, figsize = (10, 3)) \n",
    "\n",
    "for ax, image, label in zip(axes, df_numeros.images, df_numeros.target):\n",
    "    ax.set_axis_off()\n",
    "    ax.imshow(image, cmap = plt.cm.gray_r, interpolation = \"nearest\") #metodo de plot\n",
    "    ax.set_title(\"Training: %i\" % label)"
   ]
  },
  {
   "cell_type": "code",
   "execution_count": 4,
   "metadata": {},
   "outputs": [
    {
     "name": "stdout",
     "output_type": "stream",
     "text": [
      "Figure(720x216)\n",
      "[<AxesSubplot:title={'center':'Training: 0'}>\n",
      " <AxesSubplot:title={'center':'Training: 1'}>\n",
      " <AxesSubplot:title={'center':'Training: 2'}>\n",
      " <AxesSubplot:title={'center':'Training: 3'}>]\n"
     ]
    }
   ],
   "source": [
    "print(fig)\n",
    "print(axes)"
   ]
  },
  {
   "cell_type": "code",
   "execution_count": 5,
   "metadata": {},
   "outputs": [],
   "source": [
    "#redimencionar imagem (achatar)\n",
    "n_samples = len(df_numeros.images) \n",
    "data = df_numeros.images.reshape((n_samples, -1))"
   ]
  },
  {
   "cell_type": "markdown",
   "metadata": {},
   "source": [
    "# ------------------COMEÇO (1:B)------------------"
   ]
  },
  {
   "cell_type": "code",
   "execution_count": 6,
   "metadata": {},
   "outputs": [],
   "source": [
    "# Atribuindo proporção de dados de teste e treino\n",
    "X_train, X_test, y_train, y_test = train_test_split(\n",
    "    data, df_numeros.target, test_size = 0.2, shuffle =  False)"
   ]
  },
  {
   "cell_type": "markdown",
   "metadata": {},
   "source": [
    "# ------------------FIM (1:B)------------------"
   ]
  },
  {
   "cell_type": "code",
   "execution_count": 7,
   "metadata": {},
   "outputs": [],
   "source": [
    "#Atribuindo/Criando o Classificador SVC a uma variaveel\n",
    "#clf1.fit(X_train, y_train)  <----  Jogando os dados de treino no classificador !!!!!(Ta correta essa interpretação?)!!!!!\n",
    "#gamma é um hiper-parametro\n",
    "clf1 = svm.SVC(gamma = 0.001).fit(X_train, y_train)"
   ]
  },
  {
   "cell_type": "code",
   "execution_count": 8,
   "metadata": {},
   "outputs": [],
   "source": [
    "#pode ser feita da maneira abaixo tbm\n",
    "#clf1.fit(X_train, y_train)\n",
    "\n",
    "# Calculo do Y_predito sem ter que fazer toda a estrutura de regreção\n",
    "predicted = clf1.predict(X_test)"
   ]
  },
  {
   "cell_type": "code",
   "execution_count": 9,
   "metadata": {},
   "outputs": [
    {
     "data": {
      "image/png": "[encoded data removed]",
      "text/plain": [
       "<Figure size 720x216 with 4 Axes>"
      ]
     },
     "metadata": {
      "needs_background": "light"
     },
     "output_type": "display_data"
    }
   ],
   "source": [
    "fig, axes = plt.subplots(nrows = 1, ncols = 4, figsize = (10, 3))\n",
    "\n",
    "for ax, image, prediction in zip(axes, X_test, predicted):\n",
    "    ax.set_axis_off()\n",
    "    image = image.reshape(8, 8)\n",
    "    ax.imshow(image, cmap=plt.cm.gray_r, interpolation = \"nearest\")\n",
    "    ax.set_title(f\"Prediction: {prediction}\")"
   ]
  },
  {
   "cell_type": "code",
   "execution_count": 10,
   "metadata": {},
   "outputs": [
    {
     "name": "stdout",
     "output_type": "stream",
     "text": [
      "Relatorio estatistico do classificador SVC(gamma=0.001):\n",
      "               precision    recall  f1-score   support\n",
      "\n",
      "           0       1.00      0.97      0.99        35\n",
      "           1       0.97      1.00      0.99        36\n",
      "           2       1.00      1.00      1.00        35\n",
      "           3       0.97      0.81      0.88        37\n",
      "           4       0.97      0.92      0.94        37\n",
      "           5       0.93      1.00      0.96        37\n",
      "           6       1.00      1.00      1.00        37\n",
      "           7       0.97      1.00      0.99        36\n",
      "           8       0.84      0.94      0.89        33\n",
      "           9       0.95      0.95      0.95        37\n",
      "\n",
      "    accuracy                           0.96       360\n",
      "   macro avg       0.96      0.96      0.96       360\n",
      "weighted avg       0.96      0.96      0.96       360\n",
      "\n",
      "\n"
     ]
    }
   ],
   "source": [
    "print(f\"Relatorio estatistico do classificador {clf1}:\\n\",\n",
    "      f\"{metrics.classification_report(y_test, predicted)}\\n\")"
   ]
  },
  {
   "cell_type": "markdown",
   "metadata": {},
   "source": [
    "Utilizando a proporção mais comun, de 70% para treino e 30% para teste, temos uma otima acuracis, que representa a % de procimidade dos acertor, a precição esta boa "
   ]
  },
  {
   "cell_type": "code",
   "execution_count": 11,
   "metadata": {},
   "outputs": [],
   "source": [
    "#salvando o modelo. Possivel por conta do: import pickle\n",
    "svc_clf1_treinado = pickle.dumps(clf1)"
   ]
  },
  {
   "cell_type": "code",
   "execution_count": 12,
   "metadata": {},
   "outputs": [
    {
     "data": {
      "text/plain": [
       "array([0])"
      ]
     },
     "execution_count": 12,
     "metadata": {},
     "output_type": "execute_result"
    }
   ],
   "source": [
    "#carregando o modelo treinado\n",
    "svc_clf1_carregado = pickle.loads(svc_clf1_treinado)\n",
    "svc_clf1_carregado.predict(data[0:1])"
   ]
  },
  {
   "cell_type": "code",
   "execution_count": 13,
   "metadata": {},
   "outputs": [
    {
     "data": {
      "text/plain": [
       "array([2])"
      ]
     },
     "execution_count": 13,
     "metadata": {},
     "output_type": "execute_result"
    }
   ],
   "source": [
    "#fazendo predição do novo dado com o modelo carregado\n",
    "svc_clf1_carregado.predict([X_test[0]]) "
   ]
  },
  {
   "cell_type": "code",
   "execution_count": 14,
   "metadata": {
    "scrolled": true
   },
   "outputs": [
    {
     "data": {
      "image/png": "[encoded data removed]",
      "text/plain": [
       "<Figure size 432x288 with 2 Axes>"
      ]
     },
     "metadata": {
      "needs_background": "light"
     },
     "output_type": "display_data"
    }
   ],
   "source": [
    "#Usando a Matris de confução para ter uma noção do quanto meu classificador esta..\n",
    "#... classificando erroniamente algo da minha imagem\n",
    "disp = metrics.plot_confusion_matrix(svc_clf1_carregado, X_test, y_test)\n",
    "disp.figure_.suptitle(\"Confusion Matrix\")\n",
    "\n",
    "plt.show()"
   ]
  },
  {
   "cell_type": "markdown",
   "metadata": {},
   "source": [
    "# ------------------COMEÇO (1:C) (CV metodo 1)------------------\n",
    "- Referencia: https://scikit-learn.org/stable/modules/cross_validation.html"
   ]
  },
  {
   "cell_type": "code",
   "execution_count": 15,
   "metadata": {},
   "outputs": [
    {
     "name": "stdout",
     "output_type": "stream",
     "text": [
      "(1797, 64) (1797,)\n"
     ]
    }
   ],
   "source": [
    "X, y = datasets.load_digits(return_X_y = True)\n",
    "print(X.shape, y.shape)"
   ]
  },
  {
   "cell_type": "code",
   "execution_count": 16,
   "metadata": {},
   "outputs": [
    {
     "data": {
      "text/plain": [
       "0.9749652294853964"
      ]
     },
     "execution_count": 16,
     "metadata": {},
     "output_type": "execute_result"
    }
   ],
   "source": [
    "X_train, X_test, y_train, y_test = train_test_split(\n",
    "    X, y, test_size = 0.4, random_state = 0)\n",
    "\n",
    "X_train.shape, y_train.shape\n",
    "\n",
    "X_test.shape, y_test.shape\n",
    "\n",
    "clf = svm.SVC(kernel = \"linear\", C = 1).fit(X_train, y_train)\n",
    "clf.score(X_test, y_test)"
   ]
  },
  {
   "cell_type": "code",
   "execution_count": 24,
   "metadata": {},
   "outputs": [
    {
     "name": "stdout",
     "output_type": "stream",
     "text": [
      "[0.96388889 0.91944444 0.96657382 0.9637883  0.92479109]\n"
     ]
    }
   ],
   "source": [
    "clf = svm.SVC(kernel = \"linear\", C = 1, random_state = 42)\n",
    "scores = cross_val_score(clf, X, y, cv = 5)\n",
    "print(scores)"
   ]
  },
  {
   "cell_type": "code",
   "execution_count": 18,
   "metadata": {},
   "outputs": [
    {
     "name": "stdout",
     "output_type": "stream",
     "text": [
      "0.95 acuracia e desvio padrão de 0.02\n"
     ]
    }
   ],
   "source": [
    "print(\"%0.2f acuracia e desvio padrão de %0.2f\" % (scores.mean(), scores.std()))"
   ]
  },
  {
   "cell_type": "markdown",
   "metadata": {},
   "source": [
    "# ------------------FIM (1:C) (CV metodo 1)------------------"
   ]
  },
  {
   "cell_type": "markdown",
   "metadata": {},
   "source": [
    "# ------------------COMEÇO (1:D)------------------\n",
    "\n",
    "- Referencia: https://scikit-learn.org/stable/auto_examples/model_selection/plot_grid_search_digits.html#sphx-glr-auto-examples-model-selection-plot-grid-search-digits-py"
   ]
  },
  {
   "cell_type": "code",
   "execution_count": 20,
   "metadata": {},
   "outputs": [
    {
     "name": "stdout",
     "output_type": "stream",
     "text": [
      "\n",
      "\n",
      "> Ajustando hiper-parametro para precision \n",
      "\n",
      "\n",
      "> Melhores parametros de definição encotrados no dicionario são:\n",
      "\n",
      "\n",
      "{'C': 1, 'gamma': 0.001, 'kernel': 'rbf'} \n",
      "\n",
      "\n",
      "Grid scores no conjunto de desenvolvimento: \n",
      "\n",
      "\n",
      "0.991 (+/-0.010) for {'C': 1, 'gamma': 0.001, 'kernel': 'rbf'}\n",
      "0.973 (+/-0.020) for {'C': 1, 'gamma': 0.0001, 'kernel': 'rbf'}\n",
      "0.991 (+/-0.010) for {'C': 10, 'gamma': 0.001, 'kernel': 'rbf'}\n",
      "0.988 (+/-0.017) for {'C': 10, 'gamma': 0.0001, 'kernel': 'rbf'}\n",
      "0.991 (+/-0.010) for {'C': 100, 'gamma': 0.001, 'kernel': 'rbf'}\n",
      "0.989 (+/-0.010) for {'C': 100, 'gamma': 0.0001, 'kernel': 'rbf'}\n",
      "0.991 (+/-0.010) for {'C': 1000, 'gamma': 0.001, 'kernel': 'rbf'}\n",
      "0.989 (+/-0.010) for {'C': 1000, 'gamma': 0.0001, 'kernel': 'rbf'}\n",
      "0.980 (+/-0.014) for {'C': 1, 'kernel': 'linear'}\n",
      "0.980 (+/-0.014) for {'C': 10, 'kernel': 'linear'}\n",
      "0.980 (+/-0.014) for {'C': 100, 'kernel': 'linear'}\n",
      "0.980 (+/-0.014) for {'C': 1000, 'kernel': 'linear'}\n",
      "\n",
      "\n",
      "Relatorio de classificação detalhado:\n",
      "O modelo é treinado no conjunto de desenvolvimento completo.\n",
      "As pontuações são calculadas no conjunto de avaliação completo.\n",
      "\n",
      "\n",
      "              precision    recall  f1-score   support\n",
      "\n",
      "           0       1.00      1.00      1.00        27\n",
      "           1       0.97      1.00      0.99        35\n",
      "           2       1.00      1.00      1.00        36\n",
      "           3       1.00      1.00      1.00        29\n",
      "           4       1.00      1.00      1.00        30\n",
      "           5       0.97      0.97      0.97        40\n",
      "           6       1.00      1.00      1.00        44\n",
      "           7       1.00      1.00      1.00        39\n",
      "           8       1.00      0.97      0.99        39\n",
      "           9       0.98      0.98      0.98        41\n",
      "\n",
      "    accuracy                           0.99       360\n",
      "   macro avg       0.99      0.99      0.99       360\n",
      "weighted avg       0.99      0.99      0.99       360\n",
      "\n",
      "------------------------------------------------------------------------------------------\n",
      "\n",
      "\n",
      "> Ajustando hiper-parametro para recall \n",
      "\n",
      "\n",
      "> Melhores parametros de definição encotrados no dicionario são:\n",
      "\n",
      "\n",
      "{'C': 10, 'gamma': 0.001, 'kernel': 'rbf'} \n",
      "\n",
      "\n",
      "Grid scores no conjunto de desenvolvimento: \n",
      "\n",
      "\n",
      "0.991 (+/-0.009) for {'C': 1, 'gamma': 0.001, 'kernel': 'rbf'}\n",
      "0.973 (+/-0.019) for {'C': 1, 'gamma': 0.0001, 'kernel': 'rbf'}\n",
      "0.991 (+/-0.010) for {'C': 10, 'gamma': 0.001, 'kernel': 'rbf'}\n",
      "0.987 (+/-0.017) for {'C': 10, 'gamma': 0.0001, 'kernel': 'rbf'}\n",
      "0.991 (+/-0.010) for {'C': 100, 'gamma': 0.001, 'kernel': 'rbf'}\n",
      "0.989 (+/-0.010) for {'C': 100, 'gamma': 0.0001, 'kernel': 'rbf'}\n",
      "0.991 (+/-0.010) for {'C': 1000, 'gamma': 0.001, 'kernel': 'rbf'}\n",
      "0.989 (+/-0.010) for {'C': 1000, 'gamma': 0.0001, 'kernel': 'rbf'}\n",
      "0.978 (+/-0.014) for {'C': 1, 'kernel': 'linear'}\n",
      "0.978 (+/-0.014) for {'C': 10, 'kernel': 'linear'}\n",
      "0.978 (+/-0.014) for {'C': 100, 'kernel': 'linear'}\n",
      "0.978 (+/-0.014) for {'C': 1000, 'kernel': 'linear'}\n",
      "\n",
      "\n",
      "Relatorio de classificação detalhado:\n",
      "O modelo é treinado no conjunto de desenvolvimento completo.\n",
      "As pontuações são calculadas no conjunto de avaliação completo.\n",
      "\n",
      "\n",
      "              precision    recall  f1-score   support\n",
      "\n",
      "           0       1.00      1.00      1.00        27\n",
      "           1       0.97      1.00      0.99        35\n",
      "           2       1.00      1.00      1.00        36\n",
      "           3       1.00      1.00      1.00        29\n",
      "           4       1.00      1.00      1.00        30\n",
      "           5       0.97      0.97      0.97        40\n",
      "           6       1.00      1.00      1.00        44\n",
      "           7       1.00      1.00      1.00        39\n",
      "           8       1.00      0.97      0.99        39\n",
      "           9       0.98      0.98      0.98        41\n",
      "\n",
      "    accuracy                           0.99       360\n",
      "   macro avg       0.99      0.99      0.99       360\n",
      "weighted avg       0.99      0.99      0.99       360\n",
      "\n",
      "------------------------------------------------------------------------------------------\n"
     ]
    }
   ],
   "source": [
    "from sklearn import datasets\n",
    "from sklearn.model_selection import train_test_split\n",
    "from sklearn.model_selection import GridSearchCV\n",
    "from sklearn.metrics import classification_report\n",
    "from sklearn.svm import SVC\n",
    "\n",
    "# Nivelando a imagem, transformando em matris, para poder aplicar um classificador\n",
    "n_samples = len(df_numeros.images)\n",
    "X = df_numeros.images.reshape((n_samples, -1))\n",
    "y = df_numeros.target\n",
    "\n",
    "#--------------------------------------------------------------------------\n",
    "\n",
    "#se parando o dataset em 2, igualmente\n",
    "X_train, X_test, y_train, y_test = train_test_split(\n",
    "    X, y, test_size=0.2, random_state=0)\n",
    "\n",
    "#--------------------------------------------------------------------------\n",
    "\n",
    "# Definindo um dicionario com muitos hiper-parametros, para futuros testes e comparação\n",
    "tuned_parameters = [{'kernel': ['rbf'], 'gamma': [1e-3, 1e-4],\n",
    "                     'C': [1, 10, 100, 1000]},\n",
    "                    {'kernel': ['linear'], 'C': [1, 10, 100, 1000]}]\n",
    "\n",
    "scores = ['precision', 'recall']\n",
    "\n",
    "#for para percorrer a lista com as strings \"precision\" e \"recal\"\n",
    "for score in scores:\n",
    "    print(\"\\n\\n> Ajustando hiper-parametro para %s\" % score,\"\\n\\n\")\n",
    "\n",
    "    #definindo classificador GrindSearchCV, e lhe foi passado muitos parametros, inclusive o dicionario de Hiper-Parametros \"tuned_parameters\"\n",
    "    clf_grid = GridSearchCV(\n",
    "        SVC(), tuned_parameters, scoring='%s_macro' % score\n",
    "    )\n",
    "    clf_grid.fit(X_train, y_train)\n",
    "\n",
    "    print(\"> Melhores parametros de definição encotrados no dicionario são:\\n\\n\")\n",
    "    \n",
    "    print(clf_grid.best_params_,\"\\n\\n\")\n",
    "    \n",
    "    print(\"Grid scores no conjunto de desenvolvimento: \\n\\n\")\n",
    "\n",
    "    means = clf_grid.cv_results_['mean_test_score']\n",
    "    stds = clf_grid.cv_results_['std_test_score']\n",
    "    for mean, std, params in zip(means, stds, clf_grid.cv_results_['params']):\n",
    "        print(\"%0.3f (+/-%0.03f) for %r\"\n",
    "              % (mean, std * 2, params))\n",
    "\n",
    "    print(\"\\n\\nRelatorio de classificação detalhado:\")\n",
    "    print(\"O modelo é treinado no conjunto de desenvolvimento completo.\")\n",
    "    print(\"As pontuações são calculadas no conjunto de avaliação completo.\\n\\n\")\n",
    "    \n",
    "    y_true, y_pred = y_test, clf_grid.predict(X_test)\n",
    "    \n",
    "    print(classification_report(y_true, y_pred))\n",
    "    print(\"-\"*90)\n",
    "\n",
    "# Observe que o problema é muito fácil: o platô do hiperparâmetro é muito plano e o\n",
    "# modelo de saída é o mesmo para precisão e recall com empates em qualidade."
   ]
  },
  {
   "cell_type": "markdown",
   "metadata": {},
   "source": [
    "### No entanto esses parametros tambem apresentam o mesmo resultado para a precisão.\n",
    "\n",
    "- 0.991 (+/-0.010) for {'C': 1, 'gamma': 0.001, 'kernel': 'rbf'}\n",
    "- 0.991 (+/-0.010) for {'C': 10, 'gamma': 0.001, 'kernel': 'rbf'}\n",
    "- 0.991 (+/-0.010) for {'C': 100, 'gamma': 0.001, 'kernel': 'rbf'}\n",
    "- 0.991 (+/-0.010) for {'C': 1000, 'gamma': 0.001, 'kernel': 'rbf'}\n",
    "\n",
    "\n",
    "### Para o recal tambem existem outras combinações de hiper-parametros que apresentão o mesmo resultado.\n",
    "\n",
    "\n",
    "- 0.991 (+/-0.010) for {'C': 1, 'gamma': 0.001, 'kernel': 'rbf'}\n",
    "- 0.991 (+/-0.010) for {'C': 10, 'gamma': 0.001, 'kernel': 'rbf'}\n",
    "- 0.991 (+/-0.010) for {'C': 100, 'gamma': 0.001, 'kernel': 'rbf'}\n",
    "- 0.991 (+/-0.010) for {'C': 1000, 'gamma': 0.001, 'kernel': 'rbf'}"
   ]
  },
  {
   "cell_type": "markdown",
   "metadata": {},
   "source": [
    "# ------------------FIM (1:D)------------------"
   ]
  },
  {
   "cell_type": "markdown",
   "metadata": {},
   "source": [
    "# ------------------COMEÇO (1:E)------------------"
   ]
  },
  {
   "cell_type": "code",
   "execution_count": 21,
   "metadata": {},
   "outputs": [],
   "source": [
    "from sklearn.gaussian_process.kernels import RBF\n",
    "#não consegui ussar adequadamente esse iper parametro ^\n",
    "\n",
    "n_samples = len(df_numeros.images)\n",
    "X = df_numeros.images.reshape((n_samples, -1))\n",
    "y = df_numeros.target\n",
    "\n",
    "#kernel = 1.0 * RBF(1.0)\n",
    "\n",
    "clf_best_hp = svm.SVC(C = 1, gamma = 0.001).fit(X_train, y_train)\n",
    "\n",
    "X_train, X_test, y_train, y_test = train_test_split(\n",
    "    X, y, test_size=0.2, random_state=0)"
   ]
  },
  {
   "cell_type": "code",
   "execution_count": 22,
   "metadata": {},
   "outputs": [
    {
     "data": {
      "image/png": "[encoded data removed]",
      "text/plain": [
       "<Figure size 432x288 with 2 Axes>"
      ]
     },
     "metadata": {
      "needs_background": "light"
     },
     "output_type": "display_data"
    }
   ],
   "source": [
    "disp = metrics.plot_confusion_matrix(clf_best_hp, X_test, y_test)\n",
    "disp.figure_.suptitle(\"Confusion Matrix\")\n",
    "\n",
    "plt.show()"
   ]
  },
  {
   "cell_type": "markdown",
   "metadata": {},
   "source": [
    "# ------------------FIM (1:E)------------------"
   ]
  },
  {
   "cell_type": "code",
   "execution_count": 23,
   "metadata": {},
   "outputs": [
    {
     "name": "stdout",
     "output_type": "stream",
     "text": [
      "              precision    recall  f1-score   support\n",
      "\n",
      "           0       1.00      1.00      1.00        27\n",
      "           1       0.97      1.00      0.99        35\n",
      "           2       1.00      1.00      1.00        36\n",
      "           3       1.00      1.00      1.00        29\n",
      "           4       1.00      1.00      1.00        30\n",
      "           5       0.97      0.97      0.97        40\n",
      "           6       1.00      1.00      1.00        44\n",
      "           7       1.00      1.00      1.00        39\n",
      "           8       1.00      0.97      0.99        39\n",
      "           9       0.98      0.98      0.98        41\n",
      "\n",
      "    accuracy                           0.99       360\n",
      "   macro avg       0.99      0.99      0.99       360\n",
      "weighted avg       0.99      0.99      0.99       360\n",
      "\n"
     ]
    }
   ],
   "source": [
    "y_true, y_pred = y_test, clf_best_hp.predict(X_test)\n",
    "    \n",
    "print(classification_report(y_true, y_pred))"
   ]
  },
  {
   "cell_type": "markdown",
   "metadata": {},
   "source": [
    "# ------------------COMEÇO (2)------------------"
   ]
  },
  {
   "cell_type": "markdown",
   "metadata": {},
   "source": [
    "# (2:A)\n",
    "##### Accuracy = 0.99 como podemos observar no \"plot\" da função de relatorio do classificador (usei a accuracy do clf com melhores hiper-parametros, mesmo tendo risco de OuverFitting, no entanto como estou apenas identificando numeros borrados de uma imagem especifica, não tem muito problema)\n",
    "##### gostari de ussar o clf do CV no entanto estou tendo diversos erros relacionados ao SVC. :-\\"
   ]
  },
  {
   "cell_type": "markdown",
   "metadata": {},
   "source": [
    "# (2:B)\n",
    "#### O modelo teve uma exelente performaçe, conseguindo ser melhor que os anteriores. Apenas tres numeros tiveram classificação erronea, e apenas uma ves em cada.\n",
    "##### Podemos comprovar a alegação acima atraves do relatorio do classificador (\"classification_report(y_true, y_pred)\") e do matrix de confunção."
   ]
  },
  {
   "cell_type": "markdown",
   "metadata": {},
   "source": [
    "# (2:C)\n",
    "### Os melhores parametros para precisão de acordo com o codigo escrito no (ex:1), são:\n",
    "\n",
    "- 0.991 (+/-0.010) for {'C': 1, 'gamma': 0.001, 'kernel': 'rbf'}\n",
    "- 0.991 (+/-0.010) for {'C': 10, 'gamma': 0.001, 'kernel': 'rbf'}\n",
    "- 0.991 (+/-0.010) for {'C': 100, 'gamma': 0.001, 'kernel': 'rbf'}\n",
    "- 0.991 (+/-0.010) for {'C': 1000, 'gamma': 0.001, 'kernel': 'rbf'}\n",
    "\n",
    "\n",
    "### Os melhores parametros para recall de acordo com o codigo escrito no (ex:1), são:\n",
    "\n",
    "\n",
    "- 0.991 (+/-0.010) for {'C': 1, 'gamma': 0.001, 'kernel': 'rbf'}\n",
    "- 0.991 (+/-0.010) for {'C': 10, 'gamma': 0.001, 'kernel': 'rbf'}\n",
    "- 0.991 (+/-0.010) for {'C': 100, 'gamma': 0.001, 'kernel': 'rbf'}\n",
    "- 0.991 (+/-0.010) for {'C': 1000, 'gamma': 0.001, 'kernel': 'rbf'}"
   ]
  },
  {
   "cell_type": "markdown",
   "metadata": {},
   "source": [
    "# (2:D)\n",
    "#### A falta de uma base, conhecimento previo, tanto referente a estrutura do classificador quanto no seus parametros.\n",
    "##### O praso cujo não posso estender em demasia para terminar esse modulo."
   ]
  },
  {
   "cell_type": "markdown",
   "metadata": {},
   "source": [
    "# ------------------FIM (2)------------------"
   ]
  },
  {
   "cell_type": "markdown",
   "metadata": {},
   "source": [
    "# ------------------COMEÇO (3)------------------"
   ]
  },
  {
   "cell_type": "markdown",
   "metadata": {},
   "source": [
    "# (3:A)\n",
    "#### Ha diferença entre eles é que os parametros são estimados automaticamente pelo modelo e dados em quetão. Já os hiperparâmetros são configurados automatiamente (no entanto existem maneiras de estimar qual o melhor, para não precisar testar 1 por 1, ou cada uma das desenas de cominações)"
   ]
  },
  {
   "cell_type": "markdown",
   "metadata": {},
   "source": [
    "# (3:B)\n",
    "#### 1-Alto custo de desemvolvimento :\n",
    "- Principalmente na etapa de analize de dados, alocar eles, tratalos, demora muito e perde tempo da equipe que vai desenvolver o produto e/ou treinar um algoritimo.\n",
    "\n",
    "#### 2-Obter o dado :\n",
    "- Já esta bem difundidada que os dados são o novo petroleo, no entanto não é tarefa simples coletar dados bons, devido as politicas de pricvacidade e burocracia, no entanto o tiktiok ussou uma abordagem genial, apos o aplicativo popularisar muito as suas politicas de coleta de dados mudaram, e começou a coletar muito mais dados.\n",
    "\n",
    "#### 3-Tecnologias rescentes :\n",
    "- É uma faca de dois gumes. Por um lado, incorpora a mais recente tecnologia e desenvolvimentos, mas, por outro lado, não está pronto para a produção o que implica em constantes atualizações e exige um acompanhamento de perto\n",
    " \n",
    "#### 4-Custo computacional :\n",
    "- O usse de recursos computacional pode gerar muitos gastes, e uma empresa pequena pode acabar não tendo tanto recurso, por isso é necessario proficionais qualificados para não fazerem codgos sem performaçe, para identificarem se um codgo tão pesado e complexo é mesmo necessario"
   ]
  },
  {
   "cell_type": "markdown",
   "metadata": {},
   "source": [
    "# (3:C)\n",
    "- Ouverfitting.\n",
    "- Solução 1: Aumentar a base de dados\n",
    "- Solução 2: Alterrar a proporção dos dados de treino e teste  (ideial : 70%-30%, ou 65%-35%)\n",
    "- Solução 3: Mudar o modelo de classificação "
   ]
  },
  {
   "cell_type": "markdown",
   "metadata": {},
   "source": [
    "# (3:D)\n",
    "- É o cunjunto que treina o modelo, deve ser ussado para apurar o modelo"
   ]
  },
  {
   "cell_type": "markdown",
   "metadata": {},
   "source": [
    "# (3:E)\n",
    "- Validar a eficacia do modele escolido e treinado"
   ]
  },
  {
   "cell_type": "markdown",
   "metadata": {},
   "source": [
    "# (3:F)\n",
    "- Um ouverfitting dos dados"
   ]
  },
  {
   "cell_type": "markdown",
   "metadata": {},
   "source": [
    "# ------------------FIM (3)------------------"
   ]
  }
 ],
 "metadata": {
  "kernelspec": {
   "display_name": "Python 3",
   "language": "python",
   "name": "python3"
  },
  "language_info": {
   "codemirror_mode": {
    "name": "ipython",
    "version": 3
   },
   "file_extension": ".py",
   "mimetype": "text/x-python",
   "name": "python",
   "nbconvert_exporter": "python",
   "pygments_lexer": "ipython3",
   "version": "3.8.5"
  }
 },
 "nbformat": 4,
 "nbformat_minor": 4
}
