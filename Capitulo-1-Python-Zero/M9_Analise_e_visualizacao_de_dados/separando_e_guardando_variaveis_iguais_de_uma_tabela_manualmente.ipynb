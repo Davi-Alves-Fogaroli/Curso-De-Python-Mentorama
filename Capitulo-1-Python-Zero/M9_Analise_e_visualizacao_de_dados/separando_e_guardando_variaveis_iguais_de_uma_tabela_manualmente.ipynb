{
 "cells": [
  {
   "cell_type": "code",
   "execution_count": 1,
   "metadata": {},
   "outputs": [],
   "source": [
    "# importando as bibliotecas\n",
    "import pandas as pd\n",
    "import matplotlib.pyplot as plt\n",
    "import seaborn as sns # è uma biblioteca baseada em metplotlib, Fornece graficps estatísticos de alto nivel\n",
    "from numpy import array\n",
    "import numpy as np \n",
    "import matplotlib.pyplot as plt"
   ]
  },
  {
   "cell_type": "code",
   "execution_count": 2,
   "metadata": {},
   "outputs": [],
   "source": [
    "data_frame = pd.read_csv(\"1-dadosgovbr---2014.csv\",sep = ';', encoding=\"latin-1\")"
   ]
  },
  {
   "cell_type": "code",
   "execution_count": 7,
   "metadata": {},
   "outputs": [
    {
     "data": {
      "text/plain": [
       "0         Não Avaliada\n",
       "1        Não Resolvida\n",
       "2            Resolvida\n",
       "3            Resolvida\n",
       "4         Não Avaliada\n",
       "             ...      \n",
       "43982     Não Avaliada\n",
       "43983    Não Resolvida\n",
       "43984    Não Resolvida\n",
       "43985     Não Avaliada\n",
       "43986        Resolvida\n",
       "Name: Avaliação Reclamação, Length: 43987, dtype: object"
      ]
     },
     "execution_count": 7,
     "metadata": {},
     "output_type": "execute_result"
    }
   ],
   "source": [
    "data_frame[\"Avaliação Reclamação\"]"
   ]
  },
  {
   "cell_type": "code",
   "execution_count": 9,
   "metadata": {},
   "outputs": [
    {
     "name": "stdout",
     "output_type": "stream",
     "text": [
      "['F' 'F' 'F' ... 'F' 'F' 'F'] \n",
      " ['M' 'M' 'M' ... 'M' 'M' 'M'] \n",
      " ['Não Avaliada' 'Não Avaliada' 'Não Avaliada' ... 'Não Avaliada'\n",
      " 'Não Avaliada' 'Não Avaliada'] \n",
      " ['Não Resolvida' 'Não Resolvida' 'Não Resolvida' ... 'Não Resolvida'\n",
      " 'Não Resolvida' 'Não Resolvida'] \n",
      " ['Resolvida' 'Resolvida' 'Resolvida' ... 'Resolvida' 'Resolvida'\n",
      " 'Resolvida']\n"
     ]
    }
   ],
   "source": [
    "#separando cara variavel das colunas \"Sexo\" e \"Avaliação reclamação\"\n",
    "\n",
    "lista = []\n",
    "lista2 = []\n",
    "\n",
    "for i in data_frame[\"Sexo\"]:\n",
    "    feminino = array([])\n",
    "    masculino = array([])\n",
    "    \n",
    "    if i == 'F':\n",
    "        lista.append(i)\n",
    "    elif i == 'M':\n",
    "        lista2.append(i)\n",
    "\n",
    "        \n",
    "lista3 = []\n",
    "lista4 = []\n",
    "lista5 = []\n",
    "        \n",
    "for i in data_frame[\"Avaliação Reclamação\"]:\n",
    "    n_avaliada = array([])\n",
    "    n_resolvida = array([])\n",
    "    resolvida = array([])\n",
    "    \n",
    "    if i == \"Não Avaliada\":\n",
    "        lista3.append(i)\n",
    "    \n",
    "    elif i == \"Não Resolvida\":\n",
    "        lista4.append(i)\n",
    "    \n",
    "    elif i == \"Resolvida\":\n",
    "        lista5.append(i)\n",
    "        \n",
    "    \n",
    "feminino = array(lista)\n",
    "masculino = array(lista2)\n",
    "\n",
    "n_avaliada = array(lista3)\n",
    "n_resolvida = array(lista4)\n",
    "resolvida = array(lista5)\n",
    "\n",
    "print(feminino,\"\\n\",masculino,\"\\n\",n_avaliada,\"\\n\",n_resolvida,\"\\n\",resolvida)"
   ]
  },
  {
   "cell_type": "code",
   "execution_count": null,
   "metadata": {},
   "outputs": [],
   "source": []
  }
 ],
 "metadata": {
  "kernelspec": {
   "display_name": "Python 3",
   "language": "python",
   "name": "python3"
  },
  "language_info": {
   "codemirror_mode": {
    "name": "ipython",
    "version": 3
   },
   "file_extension": ".py",
   "mimetype": "text/x-python",
   "name": "python",
   "nbconvert_exporter": "python",
   "pygments_lexer": "ipython3",
   "version": "3.8.5"
  }
 },
 "nbformat": 4,
 "nbformat_minor": 4
}
