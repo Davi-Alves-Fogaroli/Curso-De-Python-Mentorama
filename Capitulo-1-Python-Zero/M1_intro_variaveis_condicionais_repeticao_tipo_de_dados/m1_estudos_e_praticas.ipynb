{
 "cells": [
  {
   "cell_type": "markdown",
   "metadata": {},
   "source": [
    "1)Faça um programa que imprime seu nome completo na tela"
   ]
  },
  {
   "cell_type": "code",
   "execution_count": 210,
   "metadata": {},
   "outputs": [
    {
     "name": "stdout",
     "output_type": "stream",
     "text": [
      "Digite seu nome: Davi Alves Fogaroli\n",
      "Davi Alves Fogaroli\n"
     ]
    }
   ],
   "source": [
    "nome = input(\"Digite seu nome: \")\n",
    "print(nome)"
   ]
  },
  {
   "cell_type": "markdown",
   "metadata": {},
   "source": [
    "2)Escreva um programa que exiba o resutado de 5a x 3b onde a=2 e b=5"
   ]
  },
  {
   "cell_type": "code",
   "execution_count": 5,
   "metadata": {},
   "outputs": [
    {
     "name": "stdout",
     "output_type": "stream",
     "text": [
      "7\n"
     ]
    }
   ],
   "source": [
    "a=2\n",
    "b=5\n",
    "print(a+b)"
   ]
  },
  {
   "cell_type": "markdown",
   "metadata": {},
   "source": [
    "3)Modifique o programa anterior, inserindo uma terceira variável c=5 e imprima a soma das três variáveis"
   ]
  },
  {
   "cell_type": "code",
   "execution_count": 6,
   "metadata": {},
   "outputs": [
    {
     "name": "stdout",
     "output_type": "stream",
     "text": [
      "12\n"
     ]
    }
   ],
   "source": [
    "a=2\n",
    "b=5\n",
    "c=5\n",
    "print(a+b+c)"
   ]
  },
  {
   "cell_type": "markdown",
   "metadata": {},
   "source": [
    "4)Escreva um programa que leia dois números e que pergunte qual operação você deseja realizar. Você deve poder calcular a soma(+),subtração(-),Multiplicação(*) e divisão(/). Exiba o resultado da operação"
   ]
  },
  {
   "cell_type": "code",
   "execution_count": 212,
   "metadata": {},
   "outputs": [
    {
     "name": "stdout",
     "output_type": "stream",
     "text": [
      "insira o valor 1: 4\n",
      "insira o valor 2: -8\n",
      "\n",
      "Digita ai quer fazer qual operação : - + / *  ??\n",
      " -\n",
      "Resultado :  12\n",
      "Se não de seja realizar outra operação digite 'N' ;-)f\n",
      "insira o valor 1: 4\n",
      "insira o valor 2: 8\n",
      "\n",
      "Digita ai quer fazer qual operação : - + / *  ??\n",
      " -\n",
      "Resultado :  -4\n",
      "Se não de seja realizar outra operação digite 'N' ;-)n\n"
     ]
    }
   ],
   "source": [
    "d='s'\n",
    "\n",
    "while (d != 'N'):\n",
    "    x=int(input(\"insira o valor 1: \"))\n",
    "    y=int(input(\"insira o valor 2: \"))\n",
    "    o=input(\"\\nDigita ai quer fazer qual operação : - + / *  ??\\n \")\n",
    "    \n",
    "    if o == '-':\n",
    "        print(\"Resultado : \", x - y)\n",
    "    if o == '+':\n",
    "        print(\"Resultado : \", x + y)\n",
    "    if o == '/':\n",
    "        print(\"Resultado : \", x / y)\n",
    "    if o == '*':\n",
    "        print(\"Resultado : \", x * y)\n",
    "    d=input(\"Se não de seja realizar outra operação digite 'N' ;-)\").upper()\n"
   ]
  },
  {
   "cell_type": "markdown",
   "metadata": {},
   "source": [
    "5)Escreva um programa para contar de 1 até 10."
   ]
  },
  {
   "cell_type": "code",
   "execution_count": 1,
   "metadata": {},
   "outputs": [
    {
     "name": "stdout",
     "output_type": "stream",
     "text": [
      "1\n",
      "2\n",
      "3\n",
      "4\n",
      "5\n",
      "6\n",
      "7\n",
      "8\n",
      "9\n",
      "10\n"
     ]
    }
   ],
   "source": [
    "x=1\n",
    "\n",
    "while (x < 11):\n",
    "    print(x)\n",
    "    x += 1"
   ]
  },
  {
   "cell_type": "markdown",
   "metadata": {},
   "source": [
    "6)Escreva um programa para contar quantos números pares e ímpares existentes entre 1 e 10 bem como a soma deles"
   ]
  },
  {
   "cell_type": "code",
   "execution_count": 8,
   "metadata": {},
   "outputs": [
    {
     "name": "stdout",
     "output_type": "stream",
     "text": [
      "Existem um total de: 10 numeros. E: 5 numeros pares, e: 5 impares. Suas somas totaslizão:  55\n"
     ]
    }
   ],
   "source": [
    "#a)usando a instrução while r=0 par  r=1 inpar\n",
    "numero=1\n",
    "somaPar=0\n",
    "somaImpar=0\n",
    "somaTotal=0\n",
    "nPar=0\n",
    "nImpar=0\n",
    "\n",
    "while (numero <= 10):\n",
    "    #print(\"\\nVolta de numero: %d\" %numero)\n",
    "    #print(\"e\",numero)\n",
    "    resultado = numero % 2\n",
    "    if (resultado == 0):\n",
    "        #print(\"O numero par é: %d\" %numero)\n",
    "        somaPar = somaPar+ numero\n",
    "        nPar += 1\n",
    "    if (resultado == 1):\n",
    "        #print(\"O numero impar é: %d\" %numero)\n",
    "        somaImpar = somaImpar + numero\n",
    "        nImpar += 1\n",
    "    numero += 1\n",
    "    #print(\"s\",numero)\n",
    "\n",
    "numero -= 1    \n",
    "\n",
    "somaTotal = somaPar + somaImpar\n",
    "\n",
    "print(\"Existem um total de: %d numeros.\" %numero, \"E:\",nPar,\"numeros pares, e:\",nImpar,\"impares. Suas somas totaslizão: \",somaTotal)"
   ]
  },
  {
   "cell_type": "code",
   "execution_count": 19,
   "metadata": {},
   "outputs": [
    {
     "name": "stdout",
     "output_type": "stream",
     "text": [
      "Existem um total de: 10 numeros. E: 5 numeros pares, e: 5 impares. Suas somas totaslizão:  55\n"
     ]
    }
   ],
   "source": [
    "#6)Escreva um programa para contar quantos números pares e ímpares existentes entre 1 e 10 bem como a soma deles\n",
    "#b)usando a nstrução for e as funções rande e sum\n",
    "\n",
    "somaPar=[]\n",
    "somaImpar=[]\n",
    "somaTotal=0\n",
    "nPar=0\n",
    "nImpar=0\n",
    "\n",
    "for numero in range(1,11):\n",
    "                                #print(\"e\",numero)\n",
    "    resultado = numero % 2\n",
    "    if (resultado == 0):\n",
    "        nPar += 1\n",
    "        somaPar.append(numero)\n",
    "        #print(somaPar)\n",
    "                                #print(somaPar)\n",
    "    elif (resultado ==1):\n",
    "        nImpar += 1\n",
    "        somaImpar.append(numero)\n",
    "                                #print(\"s\",numero)\n",
    "            \n",
    "somaTotal = sum(somaPar)+sum(somaImpar)\n",
    "\n",
    "print(\"Existem um total de: %d numeros.\" %numero, \"E:\",nPar,\"numeros pares, e:\",nImpar,\"impares. Suas somas totaslizão: \",somaTotal)"
   ]
  },
  {
   "cell_type": "markdown",
   "metadata": {},
   "source": [
    " 7) Escreva um programa para resolver enquações do segundo grau representadas por ax^2+bx+c usando a Fórmula de Bhaskara"
   ]
  },
  {
   "cell_type": "code",
   "execution_count": 213,
   "metadata": {},
   "outputs": [
    {
     "name": "stdout",
     "output_type": "stream",
     "text": [
      "insira o valor da variavel a: 0\n",
      "insira o valor da variavel b: 1\n",
      "insira o valor da variavel c: 1\n",
      "O valor de delta 1\n",
      "\n",
      "Por 'a' ser = 0. X1 e X1 terão seus valores divididos por 0 e apresentaram um valor indefinido ou indeterminado \n",
      "\n",
      "    -Indefinido: k/0, onde não se pode atribuir um valor resultante da divisão, pois 'k/0 = x' que equivale a 'x*0 = K', logo ao tentar descubrir qual o valor da divisão por 0, tambem esta tentando discobrir qual 'x*0 = k', porem sabemos que qualquer valor 'x*0 = 0'. Uma regra matematica.\n",
      "    -Indeteminado: '0/0', é impossivel determinar um valor resultante, pois em uma verificação 'n/k = x' logo 'x*k = n', no entanto '0/0 = 1' portanto '1*0 = 0', isso se aplica para qual quer valor 'x' que se pensar, por isso é impossivel determinar um valor para divsão '0/0'\n",
      "\n",
      " Logo o programa ira quebrar, por favor ponha a!=0 XD\n"
     ]
    }
   ],
   "source": [
    " #a) sem usar o módulo matha=float(input(\"insira o valor da variavel a\"))\n",
    "a=float(input(\"insira o valor da variavel a: \"))\n",
    "b=float(input(\"insira o valor da variavel b: \"))\n",
    "c=float(input(\"insira o valor da variavel c: \"))\n",
    "x1=0\n",
    "x2=0\n",
    "\n",
    "d=(b**2)-4*a*c\n",
    "print(\"O valor de delta %d\" %d)\n",
    "\n",
    "if (a == 0):\n",
    "    print(\"\\nPor 'a' ser = 0. X1 e X1 terão seus valores divididos por 0 e apresentaram um valor indefinido ou indeterminado \\n\\n    -Indefinido: k/0, onde não se pode atribuir um valor resultante da divisão, pois 'k/0 = x' que equivale a 'x*0 = K', logo ao tentar descubrir qual o valor da divisão por 0, tambem esta tentando discobrir qual 'x*0 = k', porem sabemos que qualquer valor 'x*0 = 0'. Uma regra matematica.\\n    -Indeteminado: '0/0', é impossivel determinar um valor resultante, pois em uma verificação 'n/k = x' logo 'x*k = n', no entanto '0/0 = 1' portanto '1*0 = 0', isso se aplica para qual quer valor 'x' que se pensar, por isso é impossivel determinar um valor para divsão '0/0'\\n\\n Logo o programa ira quebrar, por favor ponha a!=0 XD\")\n",
    "elif (d < 0):\n",
    "    print(\"As raizes seram imaginarias e por enquanto não sei muito do conjunto dos numeros imaginarios, fique com esse belo tente fazer o Desta ser >= 0  :-P\")\n",
    "else:\n",
    "    x1=((-b)-(d**0.5))/(2*a)\n",
    "    x2=((-b)+(d**0.5))/(2*a)\n",
    "    print(\"X1= \",x1)\n",
    "    print(\"X2= \",x2)"
   ]
  },
  {
   "cell_type": "code",
   "execution_count": 216,
   "metadata": {},
   "outputs": [
    {
     "name": "stdout",
     "output_type": "stream",
     "text": [
      "insira o valor da variavel a: 2\n",
      "insira o valor da variavel b: 1\n",
      "insira o valor da variavel c: 2\n",
      "O valor de delta -15\n",
      "As raizes serão imaginarias e por enquanto não sei muito do conjunto dos numeros imaginarios, fique com esse belo tente fazer o Desta ser >= 0  :-P\n"
     ]
    }
   ],
   "source": [
    "#b) usando o módulo math\n",
    "import math\n",
    "\n",
    "a=float(input(\"insira o valor da variavel a: \"))\n",
    "b=float(input(\"insira o valor da variavel b: \"))\n",
    "c=float(input(\"insira o valor da variavel c: \"))\n",
    "x1=0\n",
    "x2=0\n",
    "\n",
    "d=(b**2)-4*a*c\n",
    "print(\"O valor de delta %d\" %d)\n",
    "\n",
    "if (a == 0):\n",
    "    print(\"\\nPor 'a' ser = 0. X1 e X1 terão seus valores divididos por 0 e apresentaram um valor indefinido ou indeterminado \\n\\n    -Indefinido: k/0, onde não se pode atribuir um valor resultante da divisão, pois 'k/0 = x' que equivale a 'x*0 = K', logo ao tentar descubrir qual o valor da divisão por 0, tambem esta tentando discobrir qual 'x*0 = k', porem sabemos que qualquer valor 'x*0 = 0'. Uma regra matematica.\\n    -Indeteminado: '0/0', é impossivel determinar um valor resultante, pois em uma verificação 'n/k = x' logo 'x*k = n', no entanto '0/0 = 1' portanto '1*0 = 0', isso se aplica para qual quer valor 'x' que se pensar, por isso é impossivel determinar um valor para divsão '0/0'\\n\\n Logo o programa ira quebrar, por favor ponha a!=0 XD\")\n",
    "elif (d < 0):\n",
    "    print(\"As raizes serão imaginarias e por enquanto não sei muito do conjunto dos numeros imaginarios, fique com esse belo tente fazer o Desta ser >= 0  :-P\")\n",
    "else:\n",
    "    x1=((-b)-(math.sqrt(d)))/(2*a)\n",
    "    x2=((-b)+(math.sqrt(d)))/(2*a)\n",
    "    print(\"X1= \",x1)\n",
    "    print(\"X2= \",x2)"
   ]
  },
  {
   "cell_type": "markdown",
   "metadata": {},
   "source": [
    "8)Vamos reescrever o programa a coma criando uma função bhaskara que recebe como parâmetros os coeficientes a, b e c e retorna as raizes da equação."
   ]
  },
  {
   "cell_type": "markdown",
   "metadata": {},
   "source": [
    "#a)Oq significa palavra reservada em python, quais as palavras reservadas no código dado?\n",
    "#b)Qual a função de cada uma dessas palavras reservadasno código?\n",
    "\n",
    "RESPOSTAS\n",
    "\n",
    "Significado de palavra reservada:\n",
    "\n",
    "    -As palavras reservadas em qualquer linguagem de programação são sintaxe/strings (normalmente), que ja possuem uma \"função\" na linguagem, elas desempenham alguma atividade, representao alguma função, metodo, indicam tipo de uma variavel ou qualquer outra coisa da linguagem. Por serem reservadas para suas respectivas atribuições dentro da linguagem em questão, não podem ser ussadas como nome de variavel.\n",
    "\n",
    "Palavras reservadas no codgo e suas funções:\n",
    "\n",
    "    -import (indica que alguma coisa esta sendo trasida para o mesmo diretorio do qual o programa esta sendo rodado, um obj, uma biblioteca, um arquivo....)\n",
    "    -float (define que o valor a qual a variavel tera atribuido, pode ser um numero real com cassas decimais.)\n",
    "    -input (é o comando que permite receber uma entrada)\n",
    "    -def() (é usado para definir uma função, logo apos o def e antes dos () é necessario por um nome para a função, dentro dos parenteses fica o/s parametro/s de que a func recebe/entrada)\n",
    "    -if(): (é um condicional onde indica que se determinado parametro for sadisfeito tudo aquilo dentro da identação desse determinado condicional, ira ocorrer, casso contrario ele sera pulado )\n",
    "    -else: (vem obrigatoriamente posterior a algum outro condiciona, else=\"se não\", ou seja caso o condicional anterior não acontessa por n motivos, o else ocorera(suas instruções seram realizadas))\n",
    "    -return (como o proprio nome sujere, ele é responsavel por dar algum retorno, que normalmente e colocado posteriormente, sendo uma string, uma variavel dentre outros, neste cao ele gera um retorno para a função, em cada parte do codgo gera um retorno diferente)\n",
    "    -print() (responsagem por mostrar uma informação que lhe é fornecida, na tela, é praticamente um output)"
   ]
  },
  {
   "cell_type": "code",
   "execution_count": 217,
   "metadata": {},
   "outputs": [
    {
     "name": "stdout",
     "output_type": "stream",
     "text": [
      "insira o valor da variavel a: 1\n",
      "insira o valor da variavel b: 4\n",
      "insira o valor da variavel c: 1\n",
      "[-3.732050807568877, -0.2679491924311228]\n"
     ]
    }
   ],
   "source": [
    "#c) usar a funçção dada pelo exercicio\n",
    "import math\n",
    "\n",
    "a=float(input(\"insira o valor da variavel a: \"))\n",
    "b=float(input(\"insira o valor da variavel b: \"))\n",
    "c=float(input(\"insira o valor da variavel c: \"))\n",
    "retorno=[]\n",
    "\n",
    "def bhaskara(a,b,c):\n",
    "\n",
    "    delta = (b**2)-4*a*c\n",
    "\n",
    "    if (delta < 0):\n",
    "        return None\n",
    "    else:\n",
    "        raizes = []\n",
    "        r1= (-b-(math.sqrt(delta)))/(2*a)\n",
    "        r2= (-b+(math.sqrt(delta)))/(2*a)\n",
    "        raizes.append(r1)\n",
    "        raizes.append(r2)\n",
    "        return raizes\n",
    "\n",
    "bhaskara(a,b,c)\n",
    "\n",
    "retorno= bhaskara(a,b,c) #embora não seja necessario uma lista para guardar, achei mais apropriado do que guardar uma lista em uma variavel\n",
    "print(retorno)"
   ]
  },
  {
   "cell_type": "markdown",
   "metadata": {},
   "source": [
    "9)Considerando a string s='Mentorama' escreva um programa que:\n",
    "#a)converta a string para maiúsculo, em seguida\n",
    "#b)Imprima-a de trás para frente\n",
    "#c)imprima somente as vogais"
   ]
  },
  {
   "cell_type": "code",
   "execution_count": 9,
   "metadata": {},
   "outputs": [
    {
     "name": "stdout",
     "output_type": "stream",
     "text": [
      "MENTORAMA\n",
      "AMAROTNEM\n",
      "Ala as vogais ['E', 'O', 'A', 'A']\n"
     ]
    }
   ],
   "source": [
    "#[início:fim:salto] i=primeiro valor a ser considerado(se omitido pega o 1caractere)  f=ultimo indice(se omitido pega ultimo caractere)   s=quantos char deve se saltar(o -1 indica que é para fazer ao contrario)\n",
    "\n",
    "s_lista=[]\n",
    "sVogais=[]\n",
    "vogais_lista=[\"A\",\"E\",\"I\",\"O\",\"U\"]\n",
    "s= \"Mentorama\"   \n",
    " #  012345678\n",
    "print(s)\n",
    "\n",
    "s= s.upper() #.lower() minusculo\n",
    "print(s[::-1])\n",
    "\n",
    "for x in s:\n",
    "    s_lista.append(x)\n",
    "    if (x in vogais_lista):\n",
    "        sVogais.append(x)\n",
    "print(\"Ala as vogais\",sVogais)\n"
   ]
  },
  {
   "cell_type": "raw",
   "metadata": {},
   "source": [
    "10)Escreva um programa que receba como entrada do usuario o nome \"João\" sobrenome \"da Silva\", idade\"25\", cidade \"São Paulo\", ddd\"11\", telefone\"3333-3333\" e faça as seguintes instruções:\n",
    "#a) imprima na tela o nome completo em uma única linha Nome: João da Silva\n",
    "#b)print telefone com dd Telefone: (11)3333-3333\n",
    "#c)print idade: 25\n",
    "#dprint Cidade: São Paulo"
   ]
  },
  {
   "cell_type": "code",
   "execution_count": 2,
   "metadata": {},
   "outputs": [
    {
     "name": "stdout",
     "output_type": "stream",
     "text": [
      "Digite: João: \n"
     ]
    },
    {
     "ename": "KeyboardInterrupt",
     "evalue": "Interrupted by user",
     "output_type": "error",
     "traceback": [
      "\u001b[1;31m---------------------------------------------------------------------------\u001b[0m",
      "\u001b[1;31mKeyboardInterrupt\u001b[0m                         Traceback (most recent call last)",
      "\u001b[1;32m<ipython-input-2-78f7fb0adcc4>\u001b[0m in \u001b[0;36m<module>\u001b[1;34m\u001b[0m\n\u001b[0;32m      1\u001b[0m \u001b[0mnome\u001b[0m\u001b[1;33m=\u001b[0m\u001b[0minput\u001b[0m\u001b[1;33m(\u001b[0m\u001b[1;34m\"Digite: João: \"\u001b[0m\u001b[1;33m)\u001b[0m\u001b[1;33m\u001b[0m\u001b[1;33m\u001b[0m\u001b[0m\n\u001b[1;32m----> 2\u001b[1;33m \u001b[0msobrenome\u001b[0m\u001b[1;33m=\u001b[0m\u001b[0minput\u001b[0m\u001b[1;33m(\u001b[0m\u001b[1;34m\"Digite: da Silva: \"\u001b[0m\u001b[1;33m)\u001b[0m\u001b[1;33m\u001b[0m\u001b[1;33m\u001b[0m\u001b[0m\n\u001b[0m\u001b[0;32m      3\u001b[0m \u001b[0midade\u001b[0m\u001b[1;33m=\u001b[0m\u001b[0mint\u001b[0m\u001b[1;33m(\u001b[0m\u001b[0minput\u001b[0m\u001b[1;33m(\u001b[0m\u001b[1;34m\"Digite: 25: \"\u001b[0m\u001b[1;33m)\u001b[0m\u001b[1;33m)\u001b[0m\u001b[1;33m\u001b[0m\u001b[1;33m\u001b[0m\u001b[0m\n\u001b[0;32m      4\u001b[0m \u001b[0mcidade\u001b[0m\u001b[1;33m=\u001b[0m\u001b[0minput\u001b[0m\u001b[1;33m(\u001b[0m\u001b[1;34m\"Digite: São paulo: \"\u001b[0m\u001b[1;33m)\u001b[0m\u001b[1;33m\u001b[0m\u001b[1;33m\u001b[0m\u001b[0m\n\u001b[0;32m      5\u001b[0m \u001b[0mddd\u001b[0m\u001b[1;33m=\u001b[0m\u001b[0mint\u001b[0m\u001b[1;33m(\u001b[0m\u001b[0minput\u001b[0m\u001b[1;33m(\u001b[0m\u001b[1;34m\"Digite: 11: \"\u001b[0m\u001b[1;33m)\u001b[0m\u001b[1;33m)\u001b[0m\u001b[1;33m\u001b[0m\u001b[1;33m\u001b[0m\u001b[0m\n",
      "\u001b[1;32m~\\Anaconda3\\lib\\site-packages\\ipykernel\\kernelbase.py\u001b[0m in \u001b[0;36mraw_input\u001b[1;34m(self, prompt)\u001b[0m\n\u001b[0;32m    858\u001b[0m                 \u001b[1;34m\"raw_input was called, but this frontend does not support input requests.\"\u001b[0m\u001b[1;33m\u001b[0m\u001b[1;33m\u001b[0m\u001b[0m\n\u001b[0;32m    859\u001b[0m             )\n\u001b[1;32m--> 860\u001b[1;33m         return self._input_request(str(prompt),\n\u001b[0m\u001b[0;32m    861\u001b[0m             \u001b[0mself\u001b[0m\u001b[1;33m.\u001b[0m\u001b[0m_parent_ident\u001b[0m\u001b[1;33m,\u001b[0m\u001b[1;33m\u001b[0m\u001b[1;33m\u001b[0m\u001b[0m\n\u001b[0;32m    862\u001b[0m             \u001b[0mself\u001b[0m\u001b[1;33m.\u001b[0m\u001b[0m_parent_header\u001b[0m\u001b[1;33m,\u001b[0m\u001b[1;33m\u001b[0m\u001b[1;33m\u001b[0m\u001b[0m\n",
      "\u001b[1;32m~\\Anaconda3\\lib\\site-packages\\ipykernel\\kernelbase.py\u001b[0m in \u001b[0;36m_input_request\u001b[1;34m(self, prompt, ident, parent, password)\u001b[0m\n\u001b[0;32m    902\u001b[0m             \u001b[1;32mexcept\u001b[0m \u001b[0mKeyboardInterrupt\u001b[0m\u001b[1;33m:\u001b[0m\u001b[1;33m\u001b[0m\u001b[1;33m\u001b[0m\u001b[0m\n\u001b[0;32m    903\u001b[0m                 \u001b[1;31m# re-raise KeyboardInterrupt, to truncate traceback\u001b[0m\u001b[1;33m\u001b[0m\u001b[1;33m\u001b[0m\u001b[1;33m\u001b[0m\u001b[0m\n\u001b[1;32m--> 904\u001b[1;33m                 \u001b[1;32mraise\u001b[0m \u001b[0mKeyboardInterrupt\u001b[0m\u001b[1;33m(\u001b[0m\u001b[1;34m\"Interrupted by user\"\u001b[0m\u001b[1;33m)\u001b[0m \u001b[1;32mfrom\u001b[0m \u001b[1;32mNone\u001b[0m\u001b[1;33m\u001b[0m\u001b[1;33m\u001b[0m\u001b[0m\n\u001b[0m\u001b[0;32m    905\u001b[0m             \u001b[1;32mexcept\u001b[0m \u001b[0mException\u001b[0m \u001b[1;32mas\u001b[0m \u001b[0me\u001b[0m\u001b[1;33m:\u001b[0m\u001b[1;33m\u001b[0m\u001b[1;33m\u001b[0m\u001b[0m\n\u001b[0;32m    906\u001b[0m                 \u001b[0mself\u001b[0m\u001b[1;33m.\u001b[0m\u001b[0mlog\u001b[0m\u001b[1;33m.\u001b[0m\u001b[0mwarning\u001b[0m\u001b[1;33m(\u001b[0m\u001b[1;34m\"Invalid Message:\"\u001b[0m\u001b[1;33m,\u001b[0m \u001b[0mexc_info\u001b[0m\u001b[1;33m=\u001b[0m\u001b[1;32mTrue\u001b[0m\u001b[1;33m)\u001b[0m\u001b[1;33m\u001b[0m\u001b[1;33m\u001b[0m\u001b[0m\n",
      "\u001b[1;31mKeyboardInterrupt\u001b[0m: Interrupted by user"
     ]
    }
   ],
   "source": [
    "nome=input(\"Digite: João: \")\n",
    "sobrenome=input(\"Digite: da Silva: \")\n",
    "idade=int(input(\"Digite: 25: \"))\n",
    "cidade=input(\"Digite: São paulo: \")\n",
    "ddd=int(input(\"Digite: 11: \"))\n",
    "telefone=input(\"Digite: 33333333: \")#unica forma que vejo de colocar o '-' é declarando como string, poem ou no inputi ou no print. Q é mais legar de fazer hehe\n",
    "\n",
    "print(\"znNome: \", nome+\" \"+sobrenome)\n",
    "print(\"Telefone: \",\"(\",ddd,\")\",telefone[0:4]+\"-\"+telefone[4:8])\n",
    "print(\"Idade: %d\" %idade)\n",
    "print(\"Cidade: %s\" %cidade)\n"
   ]
  },
  {
   "cell_type": "code",
   "execution_count": null,
   "metadata": {},
   "outputs": [],
   "source": []
  }
 ],
 "metadata": {
  "kernelspec": {
   "display_name": "Python 3",
   "language": "python",
   "name": "python3"
  },
  "language_info": {
   "codemirror_mode": {
    "name": "ipython",
    "version": 3
   },
   "file_extension": ".py",
   "mimetype": "text/x-python",
   "name": "python",
   "nbconvert_exporter": "python",
   "pygments_lexer": "ipython3",
   "version": "3.8.5"
  }
 },
 "nbformat": 4,
 "nbformat_minor": 4
}
