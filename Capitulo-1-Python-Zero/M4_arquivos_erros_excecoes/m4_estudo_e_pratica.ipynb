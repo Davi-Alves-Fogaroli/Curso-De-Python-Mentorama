{
 "cells": [
  {
   "cell_type": "markdown",
   "metadata": {},
   "source": [
    "            MODULO 4 (ARQUIVOS)\n",
    "\n",
    "#mesmo diretorio# nomeAquivo.open(\"nomeArquivo.txt\", 'r') #r read\n",
    "#diretorio diferente# nomeAquivo.open(\"diretorio\\diretorio\\nomeArquivo.txt\", 'r')"
   ]
  },
  {
   "cell_type": "code",
   "execution_count": 6,
   "metadata": {},
   "outputs": [
    {
     "name": "stdout",
     "output_type": "stream",
     "text": [
      "ponha um dado: dfr\n",
      "\n",
      "valor invalido\n",
      "ponha um dado: 5\n"
     ]
    }
   ],
   "source": [
    "while True:\n",
    "    try:\n",
    "        x = (int(input(\"ponha um dado: \")))\n",
    "        break\n",
    "    except ValueError:\n",
    "        print(\"\\nvalor invalido\")\n",
    "    "
   ]
  },
  {
   "cell_type": "markdown",
   "metadata": {},
   "source": [
    "arquivo = open(\"teste.txt\", \"w+\")\n",
    "arquivo.write(\"Linha1\\n\")\n",
    "arquivo.write(\"Linha2\\n\")\n",
    "arquivo.write(\"Linha3\\n\")\n",
    "arquivo.close()"
   ]
  },
  {
   "cell_type": "code",
   "execution_count": 9,
   "metadata": {},
   "outputs": [
    {
     "name": "stdout",
     "output_type": "stream",
     "text": [
      "Linha1Linha2\n"
     ]
    }
   ],
   "source": [
    "arquivo = open(\"teste.txt\", 'r')\n",
    "print(arquivo.read())\n",
    "arquivo.close()"
   ]
  },
  {
   "cell_type": "code",
   "execution_count": 14,
   "metadata": {},
   "outputs": [
    {
     "name": "stdout",
     "output_type": "stream",
     "text": [
      "Linha1\n",
      "Linha2\n",
      "Linha3\n"
     ]
    }
   ],
   "source": [
    "arquivo = open(\"teste.txt\", 'r')\n",
    "print(arquivo.readline(), end='') #end='' é uma estrutura de quebra de linha que n seja dupla\n",
    "print(arquivo.readline(), end='')\n",
    "print(arquivo.readline(), end='')\n",
    "#print(arquivo.readline())\n",
    "#print(arquivo.readline())\n",
    "#print(arquivo.readline())\n",
    "arquivo.close()"
   ]
  },
  {
   "cell_type": "code",
   "execution_count": 18,
   "metadata": {
    "scrolled": true
   },
   "outputs": [
    {
     "name": "stdout",
     "output_type": "stream",
     "text": [
      "['Linha1\\n', 'Linha2\\n', 'Linha3\\n']\n"
     ]
    }
   ],
   "source": [
    "arquivo = open(\"teste.txt\", 'r')\n",
    "print(arquivo.readlines())\n",
    "arquivo.close()"
   ]
  },
  {
   "cell_type": "markdown",
   "metadata": {},
   "source": [
    "ERROS DE SINTAX \n",
    "ERROS DE ESCEÇÃO (EX: TIPO)\n",
    "ERROS DE SEMANTICA, ERROS DE LOGICA"
   ]
  },
  {
   "cell_type": "code",
   "execution_count": 19,
   "metadata": {},
   "outputs": [
    {
     "name": "stdout",
     "output_type": "stream",
     "text": [
      "11maria\n"
     ]
    }
   ],
   "source": [
    "var1 = 11\n",
    "var2 = \"maria\"\n",
    "var3 = 3,14\n",
    "var4 = True\n",
    "\n",
    "print(str(var1)+var2)\n"
   ]
  },
  {
   "cell_type": "code",
   "execution_count": null,
   "metadata": {},
   "outputs": [],
   "source": []
  }
 ],
 "metadata": {
  "kernelspec": {
   "display_name": "Python 3",
   "language": "python",
   "name": "python3"
  },
  "language_info": {
   "codemirror_mode": {
    "name": "ipython",
    "version": 3
   },
   "file_extension": ".py",
   "mimetype": "text/x-python",
   "name": "python",
   "nbconvert_exporter": "python",
   "pygments_lexer": "ipython3",
   "version": "3.8.5"
  }
 },
 "nbformat": 4,
 "nbformat_minor": 4
}
