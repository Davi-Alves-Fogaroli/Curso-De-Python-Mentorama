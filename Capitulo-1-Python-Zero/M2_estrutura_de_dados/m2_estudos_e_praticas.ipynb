{
 "cells": [
  {
   "cell_type": "code",
   "execution_count": 2,
   "metadata": {},
   "outputs": [
    {
     "name": "stdout",
     "output_type": "stream",
     "text": [
      "[0, 1, 4, 9, 16, 25, 36, 49, 64, 81]\n"
     ]
    }
   ],
   "source": [
    "lista=[item**2 for item in range(10)]\n",
    "print(lista)"
   ]
  },
  {
   "cell_type": "code",
   "execution_count": 7,
   "metadata": {},
   "outputs": [
    {
     "name": "stdout",
     "output_type": "stream",
     "text": [
      "[[1, 4, 9], [2, 5, 10], [3, 6, 11], [4, 8, 12]]\n"
     ]
    }
   ],
   "source": [
    "#TRANSAPOSTA DE MATRIZ\n",
    "\n",
    "transposta=[]\n",
    "linha_transposta=[]\n",
    "matriz=[[1,2,3,4],[4,5,6,8],[9,10,11,12]]#criando uma matris usando os conseitos de lista\n",
    "\n",
    "for i in range(len(matriz[0])):#len verifica o tamanho no intem da lista\n",
    "    linha_transposta=[]#imagino q tbm verifica o tamanho de uma lista comum\n",
    "    for linha in matriz:\n",
    "        linha_transposta.append(linha[i])\n",
    "    transposta.append(linha_transposta)\n",
    "print(transposta)\n",
    "                      #ou faz assim em uma linha\n",
    "transposta=[[linha[i] for linha in matriz] for i in range(4)]"
   ]
  },
  {
   "cell_type": "code",
   "execution_count": 14,
   "metadata": {},
   "outputs": [
    {
     "name": "stdout",
     "output_type": "stream",
     "text": [
      "('maçã', 12345, 'olá mundo') olá mundo\n"
     ]
    }
   ],
   "source": [
    "tupla=\"maçã\",12345,\"olá mundo\"\n",
    "print(tupla, tupla[2])"
   ]
  },
  {
   "cell_type": "code",
   "execution_count": 19,
   "metadata": {},
   "outputs": [
    {
     "name": "stdout",
     "output_type": "stream",
     "text": [
      "((123, 'a'), (11111, 222))\n"
     ]
    }
   ],
   "source": [
    "        #TUPLAS DENTRO DE TUPLAS\n",
    "t=123,\"a\"\n",
    "u=t, (11111, 222)\n",
    "print(u)"
   ]
  },
  {
   "cell_type": "markdown",
   "metadata": {},
   "source": [
    "              ###AULA PRATICA M2A2"
   ]
  },
  {
   "cell_type": "code",
   "execution_count": 35,
   "metadata": {},
   "outputs": [
    {
     "name": "stdout",
     "output_type": "stream",
     "text": [
      "[]\n"
     ]
    }
   ],
   "source": [
    "lista = list()#comando para criar lista por isso parenteses\n",
    "print(lista)"
   ]
  },
  {
   "cell_type": "code",
   "execution_count": 45,
   "metadata": {},
   "outputs": [
    {
     "name": "stdout",
     "output_type": "stream",
     "text": [
      "antes dos deletes ['juninho', 'a', '1', '2', 'v', '1', '0', 'd', 'a', 'v', 'i']\n",
      "dps ['juninho', '2', 'v', '1', '0', 'd', 'v', 'i']\n"
     ]
    },
    {
     "data": {
      "text/plain": [
       "2"
      ]
     },
     "execution_count": 45,
     "metadata": {},
     "output_type": "execute_result"
    }
   ],
   "source": [
    "lista=[\"a\"]\n",
    "lista.extend('12v' '10') #.extend só recebe 1 argumento, no entanto se vc passa com as ''simples, voce pode passar varios values no entanto ele poem como char\n",
    "lista.extend('davi')\n",
    "lista.insert(0, \"juninho\")\n",
    "print(\"antes dos deletes\",lista)\n",
    "del lista[1]\n",
    "lista.remove('a')\n",
    "lista.pop(1)\n",
    "print(\"dps\", lista)\n",
    "lista.count('v')"
   ]
  },
  {
   "cell_type": "code",
   "execution_count": 46,
   "metadata": {},
   "outputs": [
    {
     "name": "stdout",
     "output_type": "stream",
     "text": [
      "(324, 2556)\n"
     ]
    },
    {
     "data": {
      "text/plain": [
       "tuple"
      ]
     },
     "execution_count": 46,
     "metadata": {},
     "output_type": "execute_result"
    }
   ],
   "source": [
    "lat=324\n",
    "long=2556\n",
    "coordenadas = (lat,long)\n",
    "print(coordenadas)\n",
    "type(coordenadas)"
   ]
  },
  {
   "cell_type": "code",
   "execution_count": 52,
   "metadata": {},
   "outputs": [
    {
     "name": "stdout",
     "output_type": "stream",
     "text": [
      "a b c\n"
     ]
    }
   ],
   "source": [
    "        #DESCOMPACTAR UMA TUPLA\n",
    "tupla=('a','b','c')\n",
    "x, y, z = tupla\n",
    "print (x,y,z)"
   ]
  },
  {
   "cell_type": "markdown",
   "metadata": {},
   "source": [
    "                #CONJUNTOS"
   ]
  },
  {
   "cell_type": "code",
   "execution_count": 53,
   "metadata": {},
   "outputs": [
    {
     "name": "stdout",
     "output_type": "stream",
     "text": [
      "{0, 1, 2, 3, 4, 5, 6, 7, 8, 9}\n"
     ]
    }
   ],
   "source": [
    "#usamos chaves ou set() para declarslos\n",
    "A={0,1,3,5,7,9}\n",
    "B={0,2,4,6,8}\n",
    "#C=A.union(B) não repete os valores\n",
    "C= A|B  \n",
    "print(C)"
   ]
  },
  {
   "cell_type": "code",
   "execution_count": 54,
   "metadata": {},
   "outputs": [
    {
     "name": "stdout",
     "output_type": "stream",
     "text": [
      "[1, 2, 3, 4, 5]\n",
      "[1, 2, 3, 4]\n"
     ]
    }
   ],
   "source": [
    "pilha = [1,2,3]\n",
    "pilha.append(4)\n",
    "pilha.append(5)\n",
    "print(pilha)\n",
    "pilha.pop()#desempilha o item\n",
    "print(pilha)"
   ]
  },
  {
   "cell_type": "code",
   "execution_count": 58,
   "metadata": {},
   "outputs": [
    {
     "name": "stdout",
     "output_type": "stream",
     "text": [
      "deque(['John', 'michel', 'Terry', 'Granham'])\n"
     ]
    }
   ],
   "source": [
    "from collections import deque #importante para usar bem as filas sem problemas\n",
    "\n",
    "fila= deque([\"Eric\",\"John\", \"michel\"]) #FIFO\n",
    "fila.append(\"Terry\")\n",
    "fila.append(\"Granham\")\n",
    "fila.popleft()\n",
    "\n",
    "print(fila)"
   ]
  },
  {
   "cell_type": "code",
   "execution_count": 69,
   "metadata": {},
   "outputs": [
    {
     "name": "stdout",
     "output_type": "stream",
     "text": [
      "Conjunto1:  {1, 2, 3, 4} <class 'set'>\n",
      "Conjunto2:  {1, 2, 8, 9, 10} <class 'set'>\n",
      "1.add() {1, 2, 3, 4, 5}\n",
      "1.update([]) {1, 2, 3, 4, 5, 6}\n",
      "1.discard() {1, 2, 3, 5, 6}\n",
      "união dos set {1, 2, 3, 5, 6, 8, 9, 10}\n",
      "intercessao {1, 2}\n"
     ]
    }
   ],
   "source": [
    "meu_set= {1,2,3,4,1} #definindo conjunto,\n",
    "print(\"Conjunto1: \",meu_set,(type(meu_set)))# no print n duplica os vlores\n",
    "\n",
    "meu_set2= set([1,2,8,9,10])\n",
    "print(\"Conjunto2: \",meu_set2,(type(meu_set2)))\n",
    "\n",
    "meu_set.add(5)\n",
    "print(\"1.add()\",meu_set)\n",
    "\n",
    "meu_set.update([3,4,5,6])\n",
    "print(\"1.update([])\",meu_set)\n",
    "\n",
    "meu_set.discard(4)\n",
    "print(\"1.discard()\",meu_set)\n",
    "\n",
    "uniao= meu_set | meu_set2\n",
    "print(\"união dos set\",uniao)\n",
    "\n",
    "intercessao= meu_set & meu_set2\n",
    "print(\"intercessao\",intercessao)"
   ]
  },
  {
   "cell_type": "code",
   "execution_count": 73,
   "metadata": {},
   "outputs": [
    {
     "name": "stdout",
     "output_type": "stream",
     "text": [
      "[1, 2, 3, 4]\n"
     ]
    },
    {
     "data": {
      "text/plain": [
       "1"
      ]
     },
     "execution_count": 73,
     "metadata": {},
     "output_type": "execute_result"
    }
   ],
   "source": [
    "pilha=[1,2,3]\n",
    "pilha.append(4)\n",
    "print(pilha)\n",
    "\n",
    "pilha.pop()#sem parametro tira o ultimo elemento colocado\n",
    "pilha.pop(0)#tira com base na posição"
   ]
  },
  {
   "cell_type": "code",
   "execution_count": 77,
   "metadata": {},
   "outputs": [
    {
     "name": "stdout",
     "output_type": "stream",
     "text": [
      "deque([5, 8, 10])\n",
      "deque([8, 10])\n"
     ]
    }
   ],
   "source": [
    "from collections import deque\n",
    "fila = deque([5,8])\n",
    "fila.append(10)\n",
    "print(fila)\n",
    "fila.popleft()#fila.pop()#tambem tira o primeiro valor da fila FIFO\n",
    "print(fila)"
   ]
  },
  {
   "cell_type": "markdown",
   "metadata": {},
   "source": [
    "#ESTRUTURA DE DADOS CHAVE VALOR. DICIONARIOS\n",
    "\n",
    "-tbm n trabalha com valores duplicados like fila\n",
    "-nao ordenada\n",
    "-mutavel\n",
    "-não permite duplicadas"
   ]
  },
  {
   "cell_type": "code",
   "execution_count": 96,
   "metadata": {},
   "outputs": [
    {
     "name": "stdout",
     "output_type": "stream",
     "text": [
      "{'Chave': 'valor', 'Outra chave': 'hehe outro valor', 'Nome': 'João', 'Salario': 2.159}\n",
      "<class 'dict'>\n"
     ]
    }
   ],
   "source": [
    "funcionario = {\"Chave\":\"valor\", \"Outra chave\":\"hehe outro valor\", \"Nome\":\"João\", \"Salario\":2.159}\n",
    "print(funcionario)\n",
    "print(type(funcionario))\n"
   ]
  },
  {
   "cell_type": "code",
   "execution_count": 101,
   "metadata": {},
   "outputs": [
    {
     "name": "stdout",
     "output_type": "stream",
     "text": [
      "{}\n",
      "{'brand': 'Fiat', 'model': 'toro', 'eletric': True, 'year': 1979, 'colors': ['red', 'white', 'blue']}\n",
      "toro True\n"
     ]
    }
   ],
   "source": [
    "            #PRAAATICAAAA, VAMO DALE GURIZADA HEHEH\n",
    "    \n",
    "dicionario= dict()#função que cria um obj dicionario# ou #dicionario={} \n",
    "print(dicionario)\n",
    "\n",
    "dicionario = {#mais facil de visualizar\n",
    "    \"brand\": \"Fiat\",\n",
    "    \"model\": \"toro\",\n",
    "    \"eletric\": True,\n",
    "    \"year\": 1998,\n",
    "    \"year\": 1979,\n",
    "    \"colors\": [\"red\", \"white\", \"blue\"]\n",
    "}\n",
    " \n",
    "print(dicionario)#no caso dos duplicados printa o ultimo valor inserido\n",
    "print(dicionario[\"model\"],dicionario[\"eletric\"])\n"
   ]
  },
  {
   "cell_type": "code",
   "execution_count": 111,
   "metadata": {},
   "outputs": [
    {
     "name": "stdout",
     "output_type": "stream",
     "text": [
      "julho\n",
      "{'nome': 'julho', 'visitas': 3}\n",
      "dict_keys(['nome', 'visitas'])\n",
      "dict_values(['julho', 3])\n",
      "dict_items([('nome', 'julho'), ('visitas', 3)])\n"
     ]
    }
   ],
   "source": [
    "dados={\"nome\":\"julho\",\"visitas\":2}\n",
    "print(dados[\"nome\"])\n",
    "\n",
    "dados[\"visitas\"] += 1\n",
    "dados[\"visitas\"] + 50\n",
    "print(dados)\n",
    "\n",
    "\"nome\" in dados #se existir retorna True\n",
    "#\"lindo\" in dados\n",
    "\n",
    "print(dados.keys())\n",
    "print(dados.values())\n",
    "print(dados.items())"
   ]
  },
  {
   "cell_type": "markdown",
   "metadata": {},
   "source": [
    "            ####MOLUDOS FUNÇÕES\n",
    "#funções::\n",
    "-modulo é um arquivo que guarda algumas funções"
   ]
  },
  {
   "cell_type": "code",
   "execution_count": 115,
   "metadata": {},
   "outputs": [
    {
     "name": "stdout",
     "output_type": "stream",
     "text": [
      "thiagokk\n",
      "ola kk\n"
     ]
    }
   ],
   "source": [
    "def hello(nomeDoUsuario):\n",
    "    print(\"ola\", nomeDoUsuario)\n",
    "hello(input(\"digite seu nome\"))"
   ]
  },
  {
   "cell_type": "code",
   "execution_count": 125,
   "metadata": {},
   "outputs": [
    {
     "name": "stdout",
     "output_type": "stream",
     "text": [
      "10\n"
     ]
    }
   ],
   "source": [
    "def soma(a,b):\n",
    "    soma= a + b\n",
    "    return soma\n",
    "\n",
    "print(soma(2,8))"
   ]
  },
  {
   "cell_type": "code",
   "execution_count": 128,
   "metadata": {},
   "outputs": [
    {
     "name": "stdout",
     "output_type": "stream",
     "text": [
      "par\n"
     ]
    }
   ],
   "source": [
    "def ePar(x):\n",
    "    return(x%2==0)\n",
    "def parOuImpar(x):\n",
    "    if ePar(x):\n",
    "        return \"par\"\n",
    "    else:\n",
    "        return \"impar\"\n",
    "print(parOuImpar(3))"
   ]
  },
  {
   "cell_type": "code",
   "execution_count": 130,
   "metadata": {},
   "outputs": [
    {
     "name": "stdout",
     "output_type": "stream",
     "text": [
      "0\n",
      "1\n",
      "2\n",
      "3\n",
      "4\n",
      "5\n",
      "6\n",
      "7\n",
      "8\n",
      "9\n",
      "tamanho variavel 10\n"
     ]
    }
   ],
   "source": [
    "var = range(10)\n",
    "for n in var:\n",
    "    print(n)\n",
    "print(\"tamanho variavel\",len(var)) "
   ]
  },
  {
   "cell_type": "code",
   "execution_count": 135,
   "metadata": {},
   "outputs": [
    {
     "name": "stdout",
     "output_type": "stream",
     "text": [
      "6\n",
      "19\n"
     ]
    }
   ],
   "source": [
    "            #FUNÇÕES LAMBIDA \n",
    "teste = lambda x: x*2\n",
    "print(teste(3))\n",
    "\n",
    "aumento = lambda a, b: a+b\n",
    "print(aumento(9,10))"
   ]
  },
  {
   "cell_type": "code",
   "execution_count": null,
   "metadata": {},
   "outputs": [],
   "source": [
    "# Módulo entrada.py\n",
    "\n",
    "def valida_inteiro(mensagem, minimo, maximo):\n",
    "    while True:\n",
    "        try:\n",
    "            v=int(input(mensagem))\n",
    "            if v>= minimo and v<= maximo:\n",
    "                return v\n",
    "            else:\n",
    "                print(\"Digite um valor entre o %d e o %d\"%(minimo, maximo))\n",
    "        except:\n",
    "            print(\"Digite um numero inteiro\")\n",
    "\n",
    "            # Módulo soma.py (que importa entrada)\n",
    "#import entrada\n",
    "L=[]\n",
    "for x in range(10):#L.append(entrada.valida_inteiro(\"Digite um numero:\", 0,20))\n",
    "    L.append(valida_inteiro(\"Digite um numero:\", 0,20))\n",
    "print(\"Soma: %d\" %(sum(L)))\n"
   ]
  },
  {
   "cell_type": "code",
   "execution_count": null,
   "metadata": {},
   "outputs": [],
   "source": []
  }
 ],
 "metadata": {
  "kernelspec": {
   "display_name": "Python 3",
   "language": "python",
   "name": "python3"
  },
  "language_info": {
   "codemirror_mode": {
    "name": "ipython",
    "version": 3
   },
   "file_extension": ".py",
   "mimetype": "text/x-python",
   "name": "python",
   "nbconvert_exporter": "python",
   "pygments_lexer": "ipython3",
   "version": "3.8.5"
  }
 },
 "nbformat": 4,
 "nbformat_minor": 4
}
