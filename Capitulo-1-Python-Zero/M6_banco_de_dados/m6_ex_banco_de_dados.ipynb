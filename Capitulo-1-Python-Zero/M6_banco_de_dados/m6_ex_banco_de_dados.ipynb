{
 "cells": [
  {
   "cell_type": "markdown",
   "metadata": {},
   "source": [
    "                    EXENCICIO 1 "
   ]
  },
  {
   "cell_type": "code",
   "execution_count": 1,
   "metadata": {},
   "outputs": [],
   "source": [
    "import sqlite3\n",
    "\n",
    "#criando banco de dados    .db     é a estanção que o caraqteriza/estrutura como banco de dados (data base)\n",
    "banco = sqlite3.connect(\"banco_m6ex.db\")"
   ]
  },
  {
   "cell_type": "code",
   "execution_count": 2,
   "metadata": {},
   "outputs": [],
   "source": [
    "#criando o cursor para poder executar comandos sql\n",
    "cursor = banco.cursor()"
   ]
  },
  {
   "cell_type": "code",
   "execution_count": 3,
   "metadata": {},
   "outputs": [],
   "source": [
    "#cursor.execute(\"\"\"DROP TABLE departamentos\"\"\")"
   ]
  },
  {
   "cell_type": "code",
   "execution_count": 4,
   "metadata": {},
   "outputs": [
    {
     "ename": "OperationalError",
     "evalue": "table funcionarios already exists",
     "output_type": "error",
     "traceback": [
      "\u001b[1;31m---------------------------------------------------------------------------\u001b[0m",
      "\u001b[1;31mOperationalError\u001b[0m                          Traceback (most recent call last)",
      "\u001b[1;32m<ipython-input-4-7f1629c1d908>\u001b[0m in \u001b[0;36m<module>\u001b[1;34m\u001b[0m\n\u001b[0;32m      1\u001b[0m \u001b[1;31m#id_funcionario ,primeiro_nome_funcionario, segundo_nome_funcionario , ultimo_nome_funcionario, data_de_nascimento , cpf, rg, endereco ,cep , cidade , telefone, id_departamento, funcao, salario\u001b[0m\u001b[1;33m\u001b[0m\u001b[1;33m\u001b[0m\u001b[1;33m\u001b[0m\u001b[0m\n\u001b[1;32m----> 2\u001b[1;33m cursor.execute(\"\"\"CREATE TABLE funcionarios (id_funcionario integer PRIMARY KEY, primeiro_nome_funcionario text, \n\u001b[0m\u001b[0;32m      3\u001b[0m                                              \u001b[0msegundo_nome_funcionario\u001b[0m \u001b[0mtext\u001b[0m\u001b[1;33m,\u001b[0m \u001b[0multimo_nome_funcionario\u001b[0m \u001b[0mtext\u001b[0m\u001b[1;33m,\u001b[0m\u001b[1;33m\u001b[0m\u001b[1;33m\u001b[0m\u001b[0m\n\u001b[0;32m      4\u001b[0m                                              \u001b[0mdata_de_nascimento\u001b[0m \u001b[0mdate\u001b[0m\u001b[1;33m,\u001b[0m\u001b[0mcpf\u001b[0m \u001b[0minteger\u001b[0m\u001b[1;33m,\u001b[0m \u001b[0mrg\u001b[0m \u001b[0minteger\u001b[0m\u001b[1;33m,\u001b[0m \u001b[0mendereco\u001b[0m \u001b[0mtext\u001b[0m\u001b[1;33m,\u001b[0m\u001b[1;33m\u001b[0m\u001b[1;33m\u001b[0m\u001b[0m\n\u001b[0;32m      5\u001b[0m                                              \u001b[0mcep\u001b[0m \u001b[0minteger\u001b[0m\u001b[1;33m,\u001b[0m \u001b[0mcidade\u001b[0m \u001b[0mtext\u001b[0m\u001b[1;33m,\u001b[0m \u001b[0mtelefone\u001b[0m \u001b[0minteger\u001b[0m\u001b[1;33m,\u001b[0m \u001b[0mid_departamento\u001b[0m \u001b[0minteger\u001b[0m\u001b[1;33m,\u001b[0m\u001b[1;33m\u001b[0m\u001b[1;33m\u001b[0m\u001b[0m\n",
      "\u001b[1;31mOperationalError\u001b[0m: table funcionarios already exists"
     ]
    }
   ],
   "source": [
    "#id_funcionario ,primeiro_nome_funcionario, segundo_nome_funcionario , ultimo_nome_funcionario, data_de_nascimento , cpf, rg, endereco ,cep , cidade , telefone, id_departamento, funcao, salario \n",
    "cursor.execute(\"\"\"CREATE TABLE funcionarios (id_funcionario integer PRIMARY KEY, primeiro_nome_funcionario text, \n",
    "                                             segundo_nome_funcionario text, ultimo_nome_funcionario text, \n",
    "                                             data_de_nascimento date,cpf integer, rg integer, endereco text,\n",
    "                                             cep integer, cidade text, telefone integer, id_departamento integer, \n",
    "                                             funcao text, salario integer)\"\"\")\n",
    "\n",
    "#id_departamento  , nome_do_departamento ,localizacao, id_do_gerente\n",
    "cursor.execute(\"\"\"CREATE TABLE departamentos(id_departamento integer PRIMARY KEY, nome_do_departamento text,\n",
    "                                                         localizacao text, id_do_gerente integer)\"\"\")"
   ]
  },
  {
   "cell_type": "code",
   "execution_count": null,
   "metadata": {},
   "outputs": [],
   "source": [
    "#id_funcionario ,primeiro_nome_funcionario, segundo_nome_funcionario , ultimo_nome_funcionario, data_de_nascimento , cpf, rg, endereco ,cep , cidade , telefone, id_departamento, funcao, salario \n",
    "\n",
    "lista_funcionarios = [('1' , \"Jose\"    , \"silva\"  , \"soares\" , '08 11 1999', '4111 11111 76', '411111111', \"Rua Radialista \", '11111111', \"sp\", '1111 1111', '31', \"Ti\" , '800' ),    \n",
    "                      ('2' , \"Julho\"   , \"silva\"  , \"pera\"   , '10 19 1999', '4112 11112 76', '411111112', \"Rua Augusto\"    , '11111112', \"sp\", '1111 1112', '31', \"Ti\" , '800' ),\n",
    "                      ('3' , \"Jose\"    , \"silva\"  , \"abacaxi\", '09 11 1999', '4113 11113 76', '411111113', \"Rua Mariana\"    , '11111113', \"sp\", '1111 1113', '32', \"Eng\", '800' ),\n",
    "                      ('4' , \"Josoares\", \"samba\"  , \"romenio\", '09 21 1999', '4114 11114 76', '411111114', \"Rua Piramboia\"  , '11111114', \"sp\", '1111 1114', '32', \"Eng\", '1600'),\n",
    "                      ('5' , \"Janaina\" , \"cartos\" , \"uva\"    , '03 16 1999', '4115 11115 76', '411111115', \"Rua Praia \"     , '11111115', \"sp\", '1111 1115', '33', \"Ven\", '2000'),\n",
    "                      ('6' , \"Janifer\" , \"casilds\", \"romã\"   , '03 30 1999', '4116 11116 76', '411111116', \"Rua grande\"     , '11111116', \"sp\", '1111 1116', '33', \"Ven\", '2000'),\n",
    "                      ('7' , \"Janaina\" , \"romero\" , \"brito\"  , '01 02 1999', '4117 11117 76', '411111117', \"Rua Selso\"      , '11111117', \"sp\", '1111 1117', '34', \"Ger\", '2000'),\n",
    "                      ('8' , \"Juliana\" , \"ladi\"   , \"gaga\"   , '01 11 1999', '4118 11118 76', '411111118', \"Rua porti\"      , '11111118', \"sp\", '1111 1118', '34', \"Ger\", '2000'),\n",
    "                      ('9' , \"Joares\"  , \"pompeia\", \"banana\" , '06 03 1999', '4119 11119 76', '411111119', \"Rua olho\"       , '11111119', \"sp\", '1111 1119', '35', \"Clt\", '1600'),\n",
    "                      ('10', \"Clebinho\", \"paloma\" , \"limão\"  , '01 09 1998', '4349 45669 35', '417151734', \"Rua caramba\"    , '13456789', \"sp\", '1456 1119', '35', \"Clt\", '2000'),\n",
    "                     ]\n",
    "#id_departamento  , nome_do_departamento ,localizacao, id_do_gerente\n",
    "\n",
    "lista_departamentos = [('31', \"Ti\" , \"SP\", '2'),\n",
    "                       ('32', \"Eng\", \"SP\", '4'),\n",
    "                       ('33', \"Ven\", \"SP\", '6'),\n",
    "                       ('34', \"Ger\", \"SP\", '8'),\n",
    "                       ('35', \"Clt\", \"SP\", '10'),\n",
    "                      ]\n",
    "cursor.executemany(\"\"\" INSERT INTO funcionarios VALUES (?,?,?,?,?,?,?,?,?,?,?,?,?,?)\"\"\", lista_funcionarios)\n",
    "\n",
    "cursor.executemany(\"\"\" INSERT INTO departamentos VALUES (?,?,?,?)\"\"\", lista_departamentos)\n",
    "\n",
    "banco.commit()"
   ]
  },
  {
   "cell_type": "code",
   "execution_count": null,
   "metadata": {},
   "outputs": [],
   "source": [
    "cursor.execute(\"SELECT * FROM funcionarios\")\n",
    "print(cursor.fetchall())\n",
    "\n",
    "cursor.execute(\"SELECT * FROM departamentos\")\n",
    "print(\"-\"*150,cursor.fetchall())"
   ]
  },
  {
   "attachments": {
    "image.png": {
     "image/png": "[encoded data removed]"
    }
   },
   "cell_type": "markdown",
   "metadata": {},
   "source": [
    "                EX(1) (A)\n",
    "![image.png](attachment:image.png)   "
   ]
  },
  {
   "cell_type": "code",
   "execution_count": null,
   "metadata": {},
   "outputs": [],
   "source": [
    "#id_funcionario ,primeiro_nome_funcionario, segundo_nome_funcionario , ultimo_nome_funcionario, data_de_nascimento , cpf, rg, endereco ,cep , cidade , telefone, id_departamentofuncao, salario \n",
    "\n",
    "exercicio_a = \"\"\"SELECT primeiro_nome_funcionario, segundo_nome_funcionario\n",
    "                 FROM funcionarios ORDER BY segundo_nome_funcionario\"\"\"\n",
    "\n",
    "cursor.execute(exercicio_a)\n",
    "cursor.fetchall()"
   ]
  },
  {
   "attachments": {
    "image.png": {
     "image/png": "[encoded data removed]"
    }
   },
   "cell_type": "markdown",
   "metadata": {},
   "source": [
    "EX(1) (B)\n",
    "![image.png](attachment:image.png)"
   ]
  },
  {
   "cell_type": "code",
   "execution_count": null,
   "metadata": {},
   "outputs": [],
   "source": [
    "#id_funcionario ,primeiro_nome_funcionario, segundo_nome_funcionario , ultimo_nome_funcionario, data_de_nascimento , cpf, rg, endereco ,cep , cidade , telefone, id_departamento, funcao, salario \n",
    "\n",
    "cursor.execute(\"\"\"SELECT * FROM funcionarios ORDER BY cidade\"\"\")\n",
    "print(cursor.fetchall())"
   ]
  },
  {
   "attachments": {
    "image.png": {
     "image/png": "[encoded data removed]"
    }
   },
   "cell_type": "markdown",
   "metadata": {},
   "source": [
    "EX(1) (C)\n",
    "![image.png](attachment:image.png)"
   ]
  },
  {
   "cell_type": "code",
   "execution_count": null,
   "metadata": {},
   "outputs": [],
   "source": [
    "#id_funcionario ,primeiro_nome_funcionario, segundo_nome_funcionario , ultimo_nome_funcionario, data_de_nascimento , cpf, rg, endereco ,cep , cidade , telefone, id_departamento, funcao, salario \n",
    "\n",
    "sql = \"\"\"SELECT * FROM funcionarios\n",
    "         WHERE salario > 1000\n",
    "         ORDER BY primeiro_nome_funcionario, segundo_nome_funcionario , ultimo_nome_funcionario\"\"\"\n",
    "\n",
    "cursor.execute(sql)\n",
    "print(cursor.fetchall())"
   ]
  },
  {
   "attachments": {
    "image.png": {
     "image/png": "[encoded data removed]"
    }
   },
   "cell_type": "markdown",
   "metadata": {},
   "source": [
    "EX(1) (D)\n",
    "![image.png](attachment:image.png)"
   ]
  },
  {
   "cell_type": "code",
   "execution_count": null,
   "metadata": {},
   "outputs": [],
   "source": [
    "#id_funcionario ,primeiro_nome_funcionario, segundo_nome_funcionario , ultimo_nome_funcionario, data_de_nascimento , cpf, rg, endereco ,cep , cidade , telefone, id_departamento, funcao, salario \n",
    "\n",
    "cursor.execute(\"\"\"SELECT data_de_nascimento,primeiro_nome_funcionario\n",
    "                  FROM funcionarios \n",
    "                  ORDER BY data_de_nascimento DESC, primeiro_nome_funcionario\"\"\")\n",
    "cursor.fetchall()"
   ]
  },
  {
   "attachments": {
    "image.png": {
     "image/png": "[encoded data removed]"
    }
   },
   "cell_type": "markdown",
   "metadata": {},
   "source": [
    "EX(1) (E)\n",
    "![image.png](attachment:image.png)"
   ]
  },
  {
   "cell_type": "code",
   "execution_count": null,
   "metadata": {},
   "outputs": [],
   "source": [
    "#id_funcionario ,primeiro_nome_funcionario, segundo_nome_funcionario , ultimo_nome_funcionario, data_de_nascimento , cpf, rg, endereco ,cep , cidade , telefone, id_departamento, funcao, salario \n",
    "cursor.execute(\"\"\"SELECT SUM(salario)\n",
    "                  FROM funcionarios\"\"\")\n",
    "\n",
    "cursor.fetchall()"
   ]
  },
  {
   "attachments": {
    "image.png": {
     "image/png": "[encoded data removed]"
    }
   },
   "cell_type": "markdown",
   "metadata": {},
   "source": [
    "EX(1) (F)\n",
    "![image.png](attachment:image.png)\n"
   ]
  },
  {
   "cell_type": "code",
   "execution_count": null,
   "metadata": {},
   "outputs": [],
   "source": [
    "#id_funcionario ,primeiro_nome_funcionario, segundo_nome_funcionario , ultimo_nome_funcionario, data_de_nascimento , cpf, rg, endereco ,cep , cidade , telefone, id_departamento, funcao, salario \n",
    "#id_departamento  , nome_do_departamento ,localizacao, id_do_gerente\n",
    "\n",
    "cursor.execute(\"\"\"SELECT funcionarios.primeiro_nome_funcionario,departamentos.nome_do_departamento,\n",
    "                  funcionarios.funcao\n",
    "                  FROM funcionarios JOIN departamentos\n",
    "                  ON funcionarios.id_departamento = departamentos.id_departamento\"\"\")\n",
    "\n",
    "cursor.fetchall()"
   ]
  },
  {
   "attachments": {
    "image.png": {
     "image/png": "[encoded data removed]"
    }
   },
   "cell_type": "markdown",
   "metadata": {},
   "source": [
    "EX(1) (G)\n",
    "![image.png](attachment:image.png)"
   ]
  },
  {
   "cell_type": "code",
   "execution_count": null,
   "metadata": {},
   "outputs": [],
   "source": [
    "cursor.execute(\"\"\"SELECT COUNT(id_funcionario)\n",
    "                  FROM funcionarios\"\"\")\n",
    "\n",
    "cursor.fetchall()"
   ]
  },
  {
   "attachments": {
    "image.png": {
     "image/png": "[encoded data removed]"
    }
   },
   "cell_type": "markdown",
   "metadata": {},
   "source": [
    "EX(1) (H)\n",
    "![image.png](attachment:image.png)"
   ]
  },
  {
   "cell_type": "code",
   "execution_count": null,
   "metadata": {},
   "outputs": [],
   "source": [
    "cursor.execute(\"\"\"SELECT \n",
    "         funcionarios.primeiro_nome_funcionario,\n",
    "         departamentos.nome_do_departamento\n",
    "         FROM funcionarios\n",
    "         LEFT OUTER JOIN departamentos ON funcionarios.id_departamento = departamentos.id_departamento\n",
    "         ORDER BY nome_do_departamento, primeiro_nome_funcionario \"\"\"\n",
    "              )\n",
    "\n",
    "cursor.fetchall()"
   ]
  },
  {
   "cell_type": "code",
   "execution_count": null,
   "metadata": {},
   "outputs": [],
   "source": []
  }
 ],
 "metadata": {
  "kernelspec": {
   "display_name": "Python 3",
   "language": "python",
   "name": "python3"
  },
  "language_info": {
   "codemirror_mode": {
    "name": "ipython",
    "version": 3
   },
   "file_extension": ".py",
   "mimetype": "text/x-python",
   "name": "python",
   "nbconvert_exporter": "python",
   "pygments_lexer": "ipython3",
   "version": "3.8.5"
  }
 },
 "nbformat": 4,
 "nbformat_minor": 4
}
