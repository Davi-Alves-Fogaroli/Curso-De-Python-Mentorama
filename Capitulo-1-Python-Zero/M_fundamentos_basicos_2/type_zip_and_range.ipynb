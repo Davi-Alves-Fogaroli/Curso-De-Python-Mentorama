{
 "cells": [
  {
   "cell_type": "code",
   "execution_count": 1,
   "metadata": {},
   "outputs": [],
   "source": [
    "l1 = range(1,50,2)\n",
    "l2 = range(1,50,1)\n",
    "\n",
    "l3 = list(zip(l1,l2))\n",
    "d1 = dict(l3)\n",
    "\n",
    "for x,y in zip(l1,l2):\n",
    "    if x*y > 100:\n",
    "        break\n",
    "    else:\n",
    "        print(\"x*y= \",x*y)\n",
    "\n",
    "print(\"O for/loop parou\")\n",
    "print(\"Os proximos x,y eram: \", (x,y))"
   ]
  },
  {
   "cell_type": "code",
   "execution_count": 2,
   "metadata": {},
   "outputs": [],
   "source": [
    "l1 = list(range(1,10,1))\n",
    "l2 = range(1,10,1)\n",
    "\n",
    "print(type(l1))\n",
    "print(type(l2))"
   ]
  },
  {
   "cell_type": "code",
   "execution_count": 3,
   "metadata": {},
   "outputs": [],
   "source": [
    "l1 = list(range(1,10,1))\n",
    "\n",
    "for x in l1:\n",
    "    if (x % 2 == 0):\n",
    "        print(\"é par: \", x)\n",
    "    else:\n",
    "        continue"
   ]
  },
  {
   "cell_type": "code",
   "execution_count": 4,
   "metadata": {},
   "outputs": [],
   "source": [
    "a =3.5\n",
    "b =3.4\n",
    "\n",
    "print(\"a\",round(a))\n",
    "\n",
    "print(\"b\",round(b))\n",
    "#aredondamento"
   ]
  },
  {
   "cell_type": "code",
   "execution_count": 5,
   "metadata": {},
   "outputs": [],
   "source": [
    "help(min)"
   ]
  },
  {
   "cell_type": "code",
   "execution_count": 6,
   "metadata": {},
   "outputs": [
    {
     "name": "stdout",
     "output_type": "stream",
     "text": [
      "[2, 4, 6, 8, 10, 12, 14, 16, 18, 20]\n"
     ]
    }
   ],
   "source": [
    "def indentifica_pares_e_guarda_em_uma_lista(lista):\n",
    "    \n",
    "    \"\"\"\"\\n\"ESTA FUNÇÃO RETORNA OS VALORES (DENTRO DE UMA LISTA) OS VALORES PARES DE UMA LISTA INPUT\"\"\"\n",
    "    \n",
    "    lista_pares=[]\n",
    "    \n",
    "    for par in lista:\n",
    "        \n",
    "        if (par % 2 == 0 ):\n",
    "            lista_pares.append(par)\n",
    "        else:\n",
    "            continue\n",
    "            \n",
    "    return(lista_pares)\n",
    "\n",
    "lista1 = list(range(1,21,1))\n",
    "\n",
    "lista2 = indentifica_pares_e_guarda_em_uma_lista(lista1)\n",
    "\n",
    "print(lista2)"
   ]
  },
  {
   "cell_type": "code",
   "execution_count": 7,
   "metadata": {},
   "outputs": [
    {
     "name": "stdout",
     "output_type": "stream",
     "text": [
      "Help on function indentifica_pares_e_guarda_em_uma_lista in module __main__:\n",
      "\n",
      "indentifica_pares_e_guarda_em_uma_lista(lista)\n",
      "    \"\n",
      "    \"ESTA FUNÇÃO RETORNA OS VALORES (DENTRO DE UMA LISTA) OS VALORES PARES DE UMA LISTA INPUT\n",
      "\n"
     ]
    }
   ],
   "source": [
    "help(indentifica_pares_e_guarda_em_uma_lista)"
   ]
  },
  {
   "cell_type": "code",
   "execution_count": 8,
   "metadata": {},
   "outputs": [],
   "source": [
    "# %load minhas_funcoes.py\n",
    "def bom_bom_muito_bom():\n",
    "    print(\"Dica boa dos \\n %load nome_do_arquivo.py \\n import nome_do_arquivo.py as apelido\")"
   ]
  },
  {
   "cell_type": "code",
   "execution_count": 9,
   "metadata": {},
   "outputs": [
    {
     "ename": "ModuleNotFoundError",
     "evalue": "No module named 'minhas_funcs'",
     "output_type": "error",
     "traceback": [
      "\u001b[1;31m---------------------------------------------------------------------------\u001b[0m",
      "\u001b[1;31mModuleNotFoundError\u001b[0m                       Traceback (most recent call last)",
      "\u001b[1;32m<ipython-input-9-299f99df5cb7>\u001b[0m in \u001b[0;36m<module>\u001b[1;34m\u001b[0m\n\u001b[1;32m----> 1\u001b[1;33m \u001b[1;32mimport\u001b[0m \u001b[0mminhas_funcs\u001b[0m\u001b[1;33m\u001b[0m\u001b[1;33m\u001b[0m\u001b[0m\n\u001b[0m\u001b[0;32m      2\u001b[0m \u001b[1;32mdef\u001b[0m \u001b[0msoma\u001b[0m\u001b[1;33m(\u001b[0m\u001b[0mx\u001b[0m\u001b[1;33m,\u001b[0m\u001b[0my\u001b[0m\u001b[1;33m)\u001b[0m\u001b[1;33m:\u001b[0m\u001b[1;33m\u001b[0m\u001b[1;33m\u001b[0m\u001b[0m\n\u001b[0;32m      3\u001b[0m     \u001b[1;32mreturn\u001b[0m \u001b[0mx\u001b[0m\u001b[1;33m+\u001b[0m\u001b[0my\u001b[0m\u001b[1;33m\u001b[0m\u001b[1;33m\u001b[0m\u001b[0m\n\u001b[0;32m      4\u001b[0m \u001b[1;33m\u001b[0m\u001b[0m\n\u001b[0;32m      5\u001b[0m \u001b[1;33m\u001b[0m\u001b[0m\n",
      "\u001b[1;31mModuleNotFoundError\u001b[0m: No module named 'minhas_funcs'"
     ]
    }
   ],
   "source": [
    "import minhas_funcs\n",
    "def soma(x,y):\n",
    "    return x+y\n",
    "\n",
    "\n",
    "somar = soma(2,3)\n",
    "somar"
   ]
  },
  {
   "cell_type": "code",
   "execution_count": null,
   "metadata": {},
   "outputs": [],
   "source": [
    "somar = soma(2,3)\n",
    "somar"
   ]
  },
  {
   "cell_type": "code",
   "execution_count": null,
   "metadata": {},
   "outputs": [],
   "source": [
    "import retangulo as r\n",
    "\n",
    "b = 4\n",
    "h = 6\n",
    "\n",
    "print(\"Area:\", r.area_ret(b,h))\n",
    "print(\"Perimetro:\", r.perimetro(b,h))\n",
    "print(\"Diagonal:\", r.diagonal_ret(b,h))\n"
   ]
  },
  {
   "cell_type": "code",
   "execution_count": null,
   "metadata": {},
   "outputs": [],
   "source": [
    "from meu_pacote import circulo as c\n",
    "r = 3\n",
    "\n",
    "print(\"Area:\", c.area(r))\n",
    "print(\"Comprimento:\", c.comprimento(r))"
   ]
  },
  {
   "cell_type": "code",
   "execution_count": null,
   "metadata": {},
   "outputs": [],
   "source": [
    "from meu_pacote import circulo, retangulo"
   ]
  },
  {
   "cell_type": "code",
   "execution_count": null,
   "metadata": {},
   "outputs": [],
   "source": [
    "print(circulo.area(2))\n",
    "print(retangulo.area_ret(2,3))"
   ]
  },
  {
   "cell_type": "code",
   "execution_count": 11,
   "metadata": {},
   "outputs": [
    {
     "name": "stdout",
     "output_type": "stream",
     "text": [
      "Requirement already satisfied: pandas-profiling in c:\\users\\fogaroli\\anaconda3\\lib\\site-packages (3.0.0)\n",
      "Requirement already satisfied: htmlmin>=0.1.12 in c:\\users\\fogaroli\\anaconda3\\lib\\site-packages (from pandas-profiling) (0.1.12)\n",
      "Requirement already satisfied: scipy>=1.4.1 in c:\\users\\fogaroli\\anaconda3\\lib\\site-packages (from pandas-profiling) (1.5.2)\n",
      "Requirement already satisfied: matplotlib>=3.2.0 in c:\\users\\fogaroli\\anaconda3\\lib\\site-packages (from pandas-profiling) (3.3.2)\n",
      "Requirement already satisfied: pydantic>=1.8.1 in c:\\users\\fogaroli\\anaconda3\\lib\\site-packages (from pandas-profiling) (1.8.2)\n",
      "Requirement already satisfied: PyYAML>=5.0.0 in c:\\users\\fogaroli\\anaconda3\\lib\\site-packages (from pandas-profiling) (5.3.1)\n",
      "Requirement already satisfied: jinja2>=2.11.1 in c:\\users\\fogaroli\\anaconda3\\lib\\site-packages (from pandas-profiling) (2.11.2)\n",
      "Requirement already satisfied: visions[type_image_path]==0.7.1 in c:\\users\\fogaroli\\anaconda3\\lib\\site-packages (from pandas-profiling) (0.7.1)\n",
      "Requirement already satisfied: missingno>=0.4.2 in c:\\users\\fogaroli\\anaconda3\\lib\\site-packages (from pandas-profiling) (0.4.2)\n",
      "Requirement already satisfied: tqdm>=4.48.2 in c:\\users\\fogaroli\\anaconda3\\lib\\site-packages (from pandas-profiling) (4.50.2)\n",
      "Requirement already satisfied: pandas!=1.0.0,!=1.0.1,!=1.0.2,!=1.1.0,>=0.25.3 in c:\\users\\fogaroli\\anaconda3\\lib\\site-packages (from pandas-profiling) (1.1.3)\n",
      "Requirement already satisfied: joblib in c:\\users\\fogaroli\\anaconda3\\lib\\site-packages (from pandas-profiling) (0.17.0)\n",
      "Requirement already satisfied: requests>=2.24.0 in c:\\users\\fogaroli\\anaconda3\\lib\\site-packages (from pandas-profiling) (2.24.0)\n",
      "Requirement already satisfied: tangled-up-in-unicode==0.1.0 in c:\\users\\fogaroli\\anaconda3\\lib\\site-packages (from pandas-profiling) (0.1.0)\n",
      "Requirement already satisfied: numpy>=1.16.0 in c:\\users\\fogaroli\\anaconda3\\lib\\site-packages (from pandas-profiling) (1.19.2)\n",
      "Requirement already satisfied: seaborn>=0.10.1 in c:\\users\\fogaroli\\anaconda3\\lib\\site-packages (from pandas-profiling) (0.11.0)\n",
      "Requirement already satisfied: phik>=0.11.1 in c:\\users\\fogaroli\\anaconda3\\lib\\site-packages (from pandas-profiling) (0.11.2)\n",
      "Requirement already satisfied: pyparsing!=2.0.4,!=2.1.2,!=2.1.6,>=2.0.3 in c:\\users\\fogaroli\\anaconda3\\lib\\site-packages (from matplotlib>=3.2.0->pandas-profiling) (2.4.7)\n",
      "Requirement already satisfied: pillow>=6.2.0 in c:\\users\\fogaroli\\anaconda3\\lib\\site-packages (from matplotlib>=3.2.0->pandas-profiling) (8.0.1)\n",
      "Requirement already satisfied: python-dateutil>=2.1 in c:\\users\\fogaroli\\anaconda3\\lib\\site-packages (from matplotlib>=3.2.0->pandas-profiling) (2.8.1)\n",
      "Requirement already satisfied: certifi>=2020.06.20 in c:\\users\\fogaroli\\anaconda3\\lib\\site-packages (from matplotlib>=3.2.0->pandas-profiling) (2020.6.20)\n",
      "Requirement already satisfied: kiwisolver>=1.0.1 in c:\\users\\fogaroli\\anaconda3\\lib\\site-packages (from matplotlib>=3.2.0->pandas-profiling) (1.3.0)\n",
      "Requirement already satisfied: cycler>=0.10 in c:\\users\\fogaroli\\anaconda3\\lib\\site-packages (from matplotlib>=3.2.0->pandas-profiling) (0.10.0)\n",
      "Requirement already satisfied: typing-extensions>=3.7.4.3 in c:\\users\\fogaroli\\anaconda3\\lib\\site-packages (from pydantic>=1.8.1->pandas-profiling) (3.7.4.3)\n",
      "Requirement already satisfied: MarkupSafe>=0.23 in c:\\users\\fogaroli\\anaconda3\\lib\\site-packages (from jinja2>=2.11.1->pandas-profiling) (1.1.1)\n",
      "Requirement already satisfied: multimethod==1.4 in c:\\users\\fogaroli\\anaconda3\\lib\\site-packages (from visions[type_image_path]==0.7.1->pandas-profiling) (1.4)\n",
      "Requirement already satisfied: networkx>=2.4 in c:\\users\\fogaroli\\anaconda3\\lib\\site-packages (from visions[type_image_path]==0.7.1->pandas-profiling) (2.5)\n",
      "Requirement already satisfied: attrs>=19.3.0 in c:\\users\\fogaroli\\anaconda3\\lib\\site-packages (from visions[type_image_path]==0.7.1->pandas-profiling) (20.3.0)\n",
      "Requirement already satisfied: bottleneck in c:\\users\\fogaroli\\anaconda3\\lib\\site-packages (from visions[type_image_path]==0.7.1->pandas-profiling) (1.3.2)\n",
      "Requirement already satisfied: imagehash; extra == \"type_image_path\" in c:\\users\\fogaroli\\anaconda3\\lib\\site-packages (from visions[type_image_path]==0.7.1->pandas-profiling) (4.2.0)\n",
      "Requirement already satisfied: pytz>=2017.2 in c:\\users\\fogaroli\\anaconda3\\lib\\site-packages (from pandas!=1.0.0,!=1.0.1,!=1.0.2,!=1.1.0,>=0.25.3->pandas-profiling) (2020.1)\n",
      "Requirement already satisfied: idna<3,>=2.5 in c:\\users\\fogaroli\\anaconda3\\lib\\site-packages (from requests>=2.24.0->pandas-profiling) (2.10)\n",
      "Requirement already satisfied: chardet<4,>=3.0.2 in c:\\users\\fogaroli\\anaconda3\\lib\\site-packages (from requests>=2.24.0->pandas-profiling) (3.0.4)\n",
      "Requirement already satisfied: urllib3!=1.25.0,!=1.25.1,<1.26,>=1.21.1 in c:\\users\\fogaroli\\anaconda3\\lib\\site-packages (from requests>=2.24.0->pandas-profiling) (1.25.11)\n",
      "Requirement already satisfied: six>=1.5 in c:\\users\\fogaroli\\anaconda3\\lib\\site-packages (from python-dateutil>=2.1->matplotlib>=3.2.0->pandas-profiling) (1.15.0)\n",
      "Requirement already satisfied: decorator>=4.3.0 in c:\\users\\fogaroli\\anaconda3\\lib\\site-packages (from networkx>=2.4->visions[type_image_path]==0.7.1->pandas-profiling) (4.4.2)\n",
      "Requirement already satisfied: PyWavelets in c:\\users\\fogaroli\\anaconda3\\lib\\site-packages (from imagehash; extra == \"type_image_path\"->visions[type_image_path]==0.7.1->pandas-profiling) (1.1.1)\n"
     ]
    }
   ],
   "source": [
    "!pip install pandas-profiling"
   ]
  },
  {
   "cell_type": "code",
   "execution_count": 13,
   "metadata": {},
   "outputs": [],
   "source": [
    "import pandas_profiling as pp"
   ]
  },
  {
   "cell_type": "markdown",
   "metadata": {},
   "source": [
    "FOUR PACKAGES BASIC FOR DATA SCIENCE\n",
    "\n",
    "\n",
    "ONE NumPy (many functions to easily perform numerical calculations)\n",
    "TWO pandas (many functions for data manipulation and analysis)\n",
    "THREE matplotlib (data creation and visualization function) \n",
    "FOUR scikits larn (machine learning package) "
   ]
  }
 ],
 "metadata": {
  "kernelspec": {
   "display_name": "Python 3",
   "language": "python",
   "name": "python3"
  },
  "language_info": {
   "codemirror_mode": {
    "name": "ipython",
    "version": 3
   },
   "file_extension": ".py",
   "mimetype": "text/x-python",
   "name": "python",
   "nbconvert_exporter": "python",
   "pygments_lexer": "ipython3",
   "version": "3.8.5"
  }
 },
 "nbformat": 4,
 "nbformat_minor": 4
}
