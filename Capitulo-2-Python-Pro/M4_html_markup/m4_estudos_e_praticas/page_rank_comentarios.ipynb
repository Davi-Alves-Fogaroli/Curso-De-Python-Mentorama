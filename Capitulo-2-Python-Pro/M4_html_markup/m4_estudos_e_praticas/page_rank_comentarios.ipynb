{
 "cells": [
  {
   "cell_type": "markdown",
   "metadata": {},
   "source": [
    "# PAGERANK\n",
    "### É um algoritimo de calculo de rankiamento na internet\n",
    "\n",
    "##### para decidir quais pagias apareceram primeiro, alem de varios fatores, existe um algoritimo. Que vai em cada site le todo o site, e busca links que referencião o SITE1, acessa os linques do SITE2 e le todos os sites e busca links referenciando o SITE1 (e quanto mais vezes o seite for referenciado mair alto ele aparecera nas busca), ao mesmo tempo esse algoritimo de pagerank vai ranqueando esses sites \"segundarios\" tbm, e é rodado varias e varias vezes, para se manter atualizado. \n",
    "##### Ou seja qando uma pagina é muito comentada, ela se torna mais relevante, e quando dizem que uma pagina referencia a outra não se esta falando de hiper-texto, e sim de comunicação entre paginas, no entanto quando ha um texto referencia o outro isso tambem é considerado no ranqueamento das paginas\n",
    "\n",
    "### Uma das primeiras versões do pagerank do google foi feito em python"
   ]
  },
  {
   "cell_type": "code",
   "execution_count": null,
   "metadata": {},
   "outputs": [],
   "source": []
  }
 ],
 "metadata": {
  "kernelspec": {
   "display_name": "Python 3",
   "language": "python",
   "name": "python3"
  },
  "language_info": {
   "codemirror_mode": {
    "name": "ipython",
    "version": 3
   },
   "file_extension": ".py",
   "mimetype": "text/x-python",
   "name": "python",
   "nbconvert_exporter": "python",
   "pygments_lexer": "ipython3",
   "version": "3.8.5"
  }
 },
 "nbformat": 4,
 "nbformat_minor": 4
}
