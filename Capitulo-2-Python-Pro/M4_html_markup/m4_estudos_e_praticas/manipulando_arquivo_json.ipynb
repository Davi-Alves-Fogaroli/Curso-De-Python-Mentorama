{
 "cells": [
  {
   "cell_type": "markdown",
   "metadata": {},
   "source": [
    "# JSON\n",
    "### Json formato de arquivo conhecido por, chave valor (obrigatorio ser string na chave). Dicionaro tem chave valor no entanto é estrutura de dado e não formato de arquivo\n",
    "## BIBLIOTECA JSON:\n",
    "### É built-in no python ex:\n",
    " - from json import dump, dumps load, loads"
   ]
  },
  {
   "cell_type": "markdown",
   "metadata": {},
   "source": [
    "# Quatro (4) importantes funções da biblioteca JSON (built-in)"
   ]
  },
  {
   "cell_type": "code",
   "execution_count": 2,
   "metadata": {},
   "outputs": [],
   "source": [
    "from json import dump, dumps, load, loads"
   ]
  },
  {
   "cell_type": "markdown",
   "metadata": {},
   "source": [
    "# Primeiro criamos um arquivo de exemplo"
   ]
  },
  {
   "cell_type": "code",
   "execution_count": 4,
   "metadata": {},
   "outputs": [],
   "source": [
    "json_exemplo = {\n",
    "    \"chave1\" : \"valor1\",\n",
    "    \"chave2\" : \"valor2\"\n",
    "}"
   ]
  },
  {
   "cell_type": "markdown",
   "metadata": {},
   "source": [
    "# dumps\n",
    "\n",
    "\n",
    "## Para fazer a conversão do formato dicionário para string usamos a função dumps"
   ]
  },
  {
   "cell_type": "code",
   "execution_count": 12,
   "metadata": {},
   "outputs": [
    {
     "name": "stdout",
     "output_type": "stream",
     "text": [
      "{\"chave1\": \"valor1\", \"chave2\": \"valor2\"}\n",
      "<class 'str'>\n"
     ]
    }
   ],
   "source": [
    "string_json = dumps(json_exemplo)\n",
    "print(string_json)\n",
    "print(type(string_json))"
   ]
  },
  {
   "cell_type": "markdown",
   "metadata": {},
   "source": [
    "# loads\n",
    "\n",
    "\n",
    "## Para fazer a conversão do formato string para dicionário usamos a função loads"
   ]
  },
  {
   "cell_type": "code",
   "execution_count": 11,
   "metadata": {},
   "outputs": [
    {
     "name": "stdout",
     "output_type": "stream",
     "text": [
      "{'chave1': 'valor1', 'chave2': 'valor2'}\n",
      "<class 'dict'>\n"
     ]
    }
   ],
   "source": [
    "# json_str2dict = json string two (to) dicionary\n",
    "json_str2dict = loads(string_json)\n",
    "print(json_str2dict)\n",
    "print(type(json_str2dict))"
   ]
  },
  {
   "cell_type": "markdown",
   "metadata": {},
   "source": [
    "# dump\n",
    "\n",
    "## Para salvar em um arquivo no formato JSON usamos a função dump"
   ]
  },
  {
   "cell_type": "code",
   "execution_count": 13,
   "metadata": {},
   "outputs": [],
   "source": [
    "with open(\"json_exemplo.json\", \"w\") as file:\n",
    "    dump(json_str2dict, file)"
   ]
  },
  {
   "cell_type": "markdown",
   "metadata": {},
   "source": [
    "# load\n",
    "\n",
    "## Para ler o arquivo JSON usamos a função load"
   ]
  },
  {
   "cell_type": "code",
   "execution_count": 20,
   "metadata": {},
   "outputs": [
    {
     "name": "stdout",
     "output_type": "stream",
     "text": [
      "{'chave1': 'valor1', 'chave2': 'valor2'}\n",
      "<class 'dict'>\n"
     ]
    }
   ],
   "source": [
    "with open(\"json_exemplo.json\") as file:\n",
    "    leitura_do_json = load(file)\n",
    "    \n",
    "print(leitura_do_json)\n",
    "print(type(leitura_do_json))"
   ]
  },
  {
   "cell_type": "code",
   "execution_count": null,
   "metadata": {},
   "outputs": [],
   "source": []
  }
 ],
 "metadata": {
  "kernelspec": {
   "display_name": "Python 3",
   "language": "python",
   "name": "python3"
  },
  "language_info": {
   "codemirror_mode": {
    "name": "ipython",
    "version": 3
   },
   "file_extension": ".py",
   "mimetype": "text/x-python",
   "name": "python",
   "nbconvert_exporter": "python",
   "pygments_lexer": "ipython3",
   "version": "3.8.5"
  }
 },
 "nbformat": 4,
 "nbformat_minor": 4
}
