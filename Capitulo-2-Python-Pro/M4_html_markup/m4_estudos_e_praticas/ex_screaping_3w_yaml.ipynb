{
 "cells": [
  {
   "cell_type": "code",
   "execution_count": 2,
   "metadata": {},
   "outputs": [],
   "source": [
    "# importando\n",
    "from requests import get\n",
    "from bs4 import BeautifulSoup\n",
    "import html5lib\n",
    "import re\n",
    "import time\n",
    "\n",
    "response = get(\"https://www.w3schools.io/file/yaml-sample-example/\")\n",
    "\n",
    "soup = BeautifulSoup(response.text, \"html5lib\")\n",
    "\n",
    "exemple = soup.find(\"pre\")\n",
    "\n",
    "exemple = exemple.text \n",
    "\n",
    "oldfile = open(\"oldfile.txt\", 'w')\n",
    "oldfile.write(exemple)\n",
    "oldfile.close()\n",
    "\n",
    "#time.sleep(20)\n",
    "\n",
    "oldfile = open(\"oldfile.txt\", 'r')\n",
    "\n",
    "cont=0\n",
    "\n",
    "while cont < 2:\n",
    "    newfile = open(\"newfile.yml\", 'w')\n",
    "\n",
    "    #lista=[]\n",
    "\n",
    "    for line in oldfile:            \n",
    "        if \"#\" in line:\n",
    "            l = re.sub(r'#.*$', '', line)\n",
    "            newfile.write(l)\n",
    "            #lista.append(l)        \n",
    "            #print(l)\n",
    "        else:\n",
    "            #lista.append(line)\n",
    "            newfile.write(line)\n",
    "            #print(line)\n",
    "\n",
    "    #print(lista)\n",
    "    cont += 1"
   ]
  },
  {
   "cell_type": "code",
   "execution_count": 3,
   "metadata": {},
   "outputs": [],
   "source": [
    "from requests import get\n",
    "from bs4 import BeautifulSoup\n",
    "import html5lib\n",
    "import re\n",
    "\n",
    "response = get(\"https://www.w3schools.io/file/yaml-sample-example/\")\n",
    "\n",
    "soup = BeautifulSoup(response.text, \"html5lib\")\n",
    "\n",
    "exemple = soup.find(\"pre\")\n",
    "\n",
    "exemple = exemple.text \n",
    "\n",
    "#oldfile = open(\"oldfile.txt\", 'w+')\n",
    "#oldfile.write(exemple)\n",
    "\n",
    "newfile = open(\"newfile.txt\", 'w+')\n",
    "\n",
    "bad_words = ['#', '---']\n",
    "\n",
    "with open('oldfile.txt') as oldfile, open('newfile.txt', 'w') as newfile:\n",
    "    for line in oldfile:\n",
    "        if not any(bad_word in line for bad_word in bad_words):\n",
    "            newfile.write(line)"
   ]
  },
  {
   "cell_type": "code",
   "execution_count": null,
   "metadata": {},
   "outputs": [],
   "source": []
  }
 ],
 "metadata": {
  "kernelspec": {
   "display_name": "Python 3",
   "language": "python",
   "name": "python3"
  },
  "language_info": {
   "codemirror_mode": {
    "name": "ipython",
    "version": 3
   },
   "file_extension": ".py",
   "mimetype": "text/x-python",
   "name": "python",
   "nbconvert_exporter": "python",
   "pygments_lexer": "ipython3",
   "version": "3.8.5"
  }
 },
 "nbformat": 4,
 "nbformat_minor": 4
}
