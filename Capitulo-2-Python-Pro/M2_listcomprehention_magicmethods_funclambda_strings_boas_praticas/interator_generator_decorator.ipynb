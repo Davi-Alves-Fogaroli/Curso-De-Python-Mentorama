{
 "cells": [
  {
   "cell_type": "markdown",
   "metadata": {},
   "source": [
    "# ESTRUTURAS (interator, generator, decorator)\n",
    "## INTERATOR\n",
    "* É um objeto que pode ser interado, o que significa que pode ser percorrido pelos seus valores\n",
    "* Tecnicamente, em python, é um objeto que implementa o protocolo \" iterato \", que consiste nos métodos \" __iter() \" e \" __next__() \"\n",
    "* OBS:  a palavra \"i\", \"iterado\", significa que o objeto esta tendo uma relação com ele mesmo, DIFERENTE de interção (que se da com individuos diferentes)\n",
    "* o ITERATOR em PYTHON é um MESMO OBJ fazendo uma AÇÃO SOBRE ELE MESMO"
   ]
  },
  {
   "cell_type": "code",
   "execution_count": 1,
   "metadata": {},
   "outputs": [],
   "source": [
    "class Contador:\n",
    "    def __iter__(self):\n",
    "        self.variavel = 0\n",
    "        \n",
    "        return self\n",
    "    \n",
    "    def __next__(self):\n",
    "        self.variavel += 1\n",
    "\n",
    "        if self.variavel > 10:\n",
    "            raise StopInteration\n",
    "            print(\"Voçê atingiu o valor maximo\") \n",
    "\n",
    "        return self.variavel"
   ]
  },
  {
   "cell_type": "code",
   "execution_count": 2,
   "metadata": {},
   "outputs": [
    {
     "ename": "TypeError",
     "evalue": "'type' object is not iterable",
     "output_type": "error",
     "traceback": [
      "\u001b[1;31m---------------------------------------------------------------------------\u001b[0m",
      "\u001b[1;31mTypeError\u001b[0m                                 Traceback (most recent call last)",
      "\u001b[1;32m<ipython-input-2-d2f36396a43f>\u001b[0m in \u001b[0;36m<module>\u001b[1;34m\u001b[0m\n\u001b[1;32m----> 1\u001b[1;33m \u001b[1;32mfor\u001b[0m \u001b[0mc\u001b[0m \u001b[1;32min\u001b[0m \u001b[0mContador\u001b[0m\u001b[1;33m:\u001b[0m\u001b[1;33m\u001b[0m\u001b[1;33m\u001b[0m\u001b[0m\n\u001b[0m\u001b[0;32m      2\u001b[0m     \u001b[0mprint\u001b[0m\u001b[1;33m(\u001b[0m\u001b[0mc\u001b[0m\u001b[1;33m)\u001b[0m\u001b[1;33m\u001b[0m\u001b[1;33m\u001b[0m\u001b[0m\n\u001b[0;32m      3\u001b[0m \u001b[1;31m#interable (interabo) ?\u001b[0m\u001b[1;33m\u001b[0m\u001b[1;33m\u001b[0m\u001b[1;33m\u001b[0m\u001b[0m\n\u001b[0;32m      4\u001b[0m \u001b[1;31m#interator\u001b[0m\u001b[1;33m\u001b[0m\u001b[1;33m\u001b[0m\u001b[1;33m\u001b[0m\u001b[0m\n",
      "\u001b[1;31mTypeError\u001b[0m: 'type' object is not iterable"
     ]
    }
   ],
   "source": [
    "for c in Contador:\n",
    "    print(c)\n",
    "#interable (interabo) ?\n",
    "#interator"
   ]
  },
  {
   "cell_type": "code",
   "execution_count": null,
   "metadata": {},
   "outputs": [],
   "source": [
    "cont = Contador()\n",
    "gerar_numeros = iter(cont)"
   ]
  },
  {
   "cell_type": "code",
   "execution_count": null,
   "metadata": {},
   "outputs": [],
   "source": [
    "next(cont)"
   ]
  },
  {
   "cell_type": "code",
   "execution_count": null,
   "metadata": {},
   "outputs": [],
   "source": [
    "for c in gerar_numeros:\n",
    "    print(c)"
   ]
  },
  {
   "cell_type": "markdown",
   "metadata": {},
   "source": [
    "## GENERATOR\n",
    "* Um obj que tambem possui a fução \" __next__() \" onde o proximo elemento é iterado\n",
    "* Pode ser criada auma função generator que irá retornar um obj generator por meio da expressão yield\n",
    "* Generators são úteis quando é necessário realizar o processamento para, geração do valor retornado a cada iteração e não tudo de uma só vez quando a função executa "
   ]
  },
  {
   "cell_type": "code",
   "execution_count": 4,
   "metadata": {},
   "outputs": [],
   "source": [
    "def generator():\n",
    "    yield 10 ** 10 #é o return para a estrutura do obj generator\n",
    "    yield 10 ** 9  #quando a func for chamada, os yield(os cauculos que eles retornarão) serão executados um por vez, ao contrario de um return que calcularia todos de uma só vez (isso teria um alto impacto computacional,\n",
    "    #em um cenario com um grande sistema e calculos complexos)\n",
    "    yield 10 ** 8  "
   ]
  },
  {
   "cell_type": "code",
   "execution_count": 5,
   "metadata": {},
   "outputs": [
    {
     "name": "stdout",
     "output_type": "stream",
     "text": [
      "10000000000\n",
      "1000000000\n",
      "100000000\n"
     ]
    }
   ],
   "source": [
    "for c in generator():\n",
    "    print(c)"
   ]
  },
  {
   "cell_type": "markdown",
   "metadata": {},
   "source": [
    "## DECORATOR\n",
    "* Um decorator é um obj que recebe outros objetos como argumento e o embrulha em um novo objeto tornando possivel assim adcionar novas caracteristicas(metodos eargumentos) ao objeto\n",
    "* em python essa operação tem uma sintaxe simples\n",
    "* OBS: MUITO UTILIZADO EM FREMA WORK WEB E PARA CRÇÃO DE API"
   ]
  },
  {
   "cell_type": "code",
   "execution_count": 36,
   "metadata": {},
   "outputs": [],
   "source": [
    "def decor(func):\n",
    "    def wrapper():\n",
    "        frase = \"_\".join(func())\n",
    "        return frase\n",
    "    return wrapper"
   ]
  },
  {
   "cell_type": "code",
   "execution_count": 37,
   "metadata": {},
   "outputs": [
    {
     "data": {
      "text/plain": [
       "<function __main__.decor.<locals>.wrapper()>"
      ]
     },
     "execution_count": 37,
     "metadata": {},
     "output_type": "execute_result"
    }
   ],
   "source": [
    "decor(\"teste\")"
   ]
  },
  {
   "cell_type": "code",
   "execution_count": 38,
   "metadata": {},
   "outputs": [],
   "source": [
    "def vamos_falar():\n",
    "    return \"String Bixo\""
   ]
  },
  {
   "cell_type": "code",
   "execution_count": 39,
   "metadata": {},
   "outputs": [
    {
     "data": {
      "text/plain": [
       "'String Bixo'"
      ]
     },
     "execution_count": 39,
     "metadata": {},
     "output_type": "execute_result"
    }
   ],
   "source": [
    "vamos_falar()"
   ]
  },
  {
   "cell_type": "code",
   "execution_count": 40,
   "metadata": {},
   "outputs": [],
   "source": [
    "@decor\n",
    "def vamos_falar():\n",
    "    return \"String Bixo\""
   ]
  },
  {
   "cell_type": "code",
   "execution_count": 41,
   "metadata": {},
   "outputs": [
    {
     "data": {
      "text/plain": [
       "'S_t_r_i_n_g_ _B_i_x_o'"
      ]
     },
     "execution_count": 41,
     "metadata": {},
     "output_type": "execute_result"
    }
   ],
   "source": [
    "vamos_falar()#ao chamar essa função que esta \"lincada\" a minha função Decor,\n",
    "#todas as etapas da func Decor doram realizadas em conjunto com a minha função"
   ]
  }
 ],
 "metadata": {
  "kernelspec": {
   "display_name": "Python 3",
   "language": "python",
   "name": "python3"
  },
  "language_info": {
   "codemirror_mode": {
    "name": "ipython",
    "version": 3
   },
   "file_extension": ".py",
   "mimetype": "text/x-python",
   "name": "python",
   "nbconvert_exporter": "python",
   "pygments_lexer": "ipython3",
   "version": "3.8.5"
  }
 },
 "nbformat": 4,
 "nbformat_minor": 4
}
