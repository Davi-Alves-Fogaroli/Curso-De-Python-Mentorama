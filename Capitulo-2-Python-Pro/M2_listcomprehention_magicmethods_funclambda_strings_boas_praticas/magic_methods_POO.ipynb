{
 "cells": [
  {
   "cell_type": "markdown",
   "metadata": {},
   "source": [
    "# INICIALIZAÇÃO DE OBJETO EM PYTHON\n",
    "\n",
    "* macgic methods(ou dunder merhods), são métodos usados na construção do comportamento de classes (POO)\n",
    "\n",
    "* em POO os obj precisam ser inicializados, em python a inicialização e feita pelo método \" __init__ \""
   ]
  },
  {
   "cell_type": "code",
   "execution_count": 1,
   "metadata": {},
   "outputs": [],
   "source": [
    "from json import load"
   ]
  },
  {
   "cell_type": "code",
   "execution_count": 23,
   "metadata": {},
   "outputs": [],
   "source": [
    "class Sistema:\n",
    "    def __init__(self):#inicialização da class #obj self estou passando o proprio obj que estou criando e a propria classe sistema\n",
    "        with open(\"acesso.json\") as f:\n",
    "            acesso = load(f) #essa func \"load()\" consegue ler um arquivo que foi carregado, e se for um json, ela cria um dicionario atomaticamente com as inf dentro dele\n",
    "            \n",
    "        self.login = acesso[\"login\"]\n",
    "        self.senha = acesso[\"senha\"]\n",
    "        \n",
    "    def verificacao(self):\n",
    "        assert self.login == \"admin\"\n",
    "        assert self.senha == \"senha\"\n",
    "        \n",
    "        return True\n",
    "    \n",
    "    def retorna_login(self):\n",
    "        return self.login"
   ]
  },
  {
   "cell_type": "code",
   "execution_count": 16,
   "metadata": {},
   "outputs": [],
   "source": [
    "sis = Sistema()"
   ]
  },
  {
   "cell_type": "code",
   "execution_count": 17,
   "metadata": {},
   "outputs": [
    {
     "data": {
      "text/plain": [
       "True"
      ]
     },
     "execution_count": 17,
     "metadata": {},
     "output_type": "execute_result"
    }
   ],
   "source": [
    "sis.verificacao()"
   ]
  },
  {
   "cell_type": "code",
   "execution_count": 22,
   "metadata": {},
   "outputs": [
    {
     "data": {
      "text/plain": [
       "'admin'"
      ]
     },
     "execution_count": 22,
     "metadata": {},
     "output_type": "execute_result"
    }
   ],
   "source": [
    "g = Sistema()\n",
    "g.retorna_login()"
   ]
  },
  {
   "cell_type": "code",
   "execution_count": 39,
   "metadata": {},
   "outputs": [],
   "source": [
    "class Sistema2:\n",
    "    def __init__(self, login, senha):#ao permitir a passagem de login e senha, a função não usara mais os dados do json,\n",
    "        #por isso podemos apaga-lo\n",
    "        \n",
    "        self.login = login\n",
    "        self.senha = senha\n",
    "        \n",
    "    def verificacao2(self):\n",
    "        assert self.login == \"admin\"\n",
    "        assert self.senha == \"senha\"\n",
    "        \n",
    "        return True\n",
    "    \n",
    "    def retorna_login_senha(self):\n",
    "        return self.login, self.senha\n",
    "    "
   ]
  },
  {
   "cell_type": "code",
   "execution_count": 40,
   "metadata": {},
   "outputs": [],
   "source": [
    "obj = Sistema2(\"admin\",\"senha\")"
   ]
  },
  {
   "cell_type": "code",
   "execution_count": 41,
   "metadata": {},
   "outputs": [
    {
     "data": {
      "text/plain": [
       "True"
      ]
     },
     "execution_count": 41,
     "metadata": {},
     "output_type": "execute_result"
    }
   ],
   "source": [
    "obj.verificacao2()"
   ]
  },
  {
   "cell_type": "code",
   "execution_count": 42,
   "metadata": {},
   "outputs": [
    {
     "data": {
      "text/plain": [
       "('admin', 'senha')"
      ]
     },
     "execution_count": 42,
     "metadata": {},
     "output_type": "execute_result"
    }
   ],
   "source": [
    "obj.retorna_login_senha()"
   ]
  },
  {
   "cell_type": "code",
   "execution_count": null,
   "metadata": {},
   "outputs": [],
   "source": []
  }
 ],
 "metadata": {
  "kernelspec": {
   "display_name": "Python 3",
   "language": "python",
   "name": "python3"
  },
  "language_info": {
   "codemirror_mode": {
    "name": "ipython",
    "version": 3
   },
   "file_extension": ".py",
   "mimetype": "text/x-python",
   "name": "python",
   "nbconvert_exporter": "python",
   "pygments_lexer": "ipython3",
   "version": "3.8.5"
  }
 },
 "nbformat": 4,
 "nbformat_minor": 4
}
