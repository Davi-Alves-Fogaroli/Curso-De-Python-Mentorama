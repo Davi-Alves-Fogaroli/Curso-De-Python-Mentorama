{
 "cells": [
  {
   "cell_type": "markdown",
   "metadata": {},
   "source": [
    "# Funções lambda são funções anônimas que nos permitem usar uma sintaxe menor e são ótimas para utilização em pequenos trechos de códigos. Porém, precisam ser usadas com cautela para não gerar confução no codigo\n",
    "#### Por ser uma função anonima Não presição ser declaradas com \"def\""
   ]
  },
  {
   "cell_type": "code",
   "execution_count": 14,
   "metadata": {},
   "outputs": [],
   "source": [
    "# nas funções anonimas, posso criar a func e atribuir diretamente a variavel (sem def)\n",
    "anonima = lambda a, b, c : a + b + c\n",
    "#\"anonima\" variavel\n",
    "#\"lambda\" palavra reservada pra função lambda\n",
    "#\"a, b, c\" parmetros que a func recebe\n",
    "#\" : \" separador do recebimento dos parametros e das operações que serão executados\n",
    "#\" a + b + c \" operação"
   ]
  },
  {
   "cell_type": "code",
   "execution_count": 15,
   "metadata": {},
   "outputs": [
    {
     "data": {
      "text/plain": [
       "10"
      ]
     },
     "execution_count": 15,
     "metadata": {},
     "output_type": "execute_result"
    }
   ],
   "source": [
    "anonima(2,5,3)"
   ]
  },
  {
   "cell_type": "code",
   "execution_count": 16,
   "metadata": {},
   "outputs": [],
   "source": [
    "anonima2 = lambda a, b : a + b if a > b else a - b\n",
    "#podemos usar condcioais nas fuc lambda"
   ]
  },
  {
   "cell_type": "code",
   "execution_count": 18,
   "metadata": {},
   "outputs": [
    {
     "data": {
      "text/plain": [
       "-3"
      ]
     },
     "execution_count": 18,
     "metadata": {},
     "output_type": "execute_result"
    }
   ],
   "source": [
    "anonima2(2,5)"
   ]
  }
 ],
 "metadata": {
  "kernelspec": {
   "display_name": "Python 3",
   "language": "python",
   "name": "python3"
  },
  "language_info": {
   "codemirror_mode": {
    "name": "ipython",
    "version": 3
   },
   "file_extension": ".py",
   "mimetype": "text/x-python",
   "name": "python",
   "nbconvert_exporter": "python",
   "pygments_lexer": "ipython3",
   "version": "3.8.5"
  }
 },
 "nbformat": 4,
 "nbformat_minor": 4
}
