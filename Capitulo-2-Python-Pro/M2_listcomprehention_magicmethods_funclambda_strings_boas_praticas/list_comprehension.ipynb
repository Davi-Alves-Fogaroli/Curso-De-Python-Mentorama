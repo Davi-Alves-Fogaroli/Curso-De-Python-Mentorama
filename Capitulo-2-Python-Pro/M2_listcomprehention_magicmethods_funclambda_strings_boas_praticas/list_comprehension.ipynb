{
 "cells": [
  {
   "cell_type": "markdown",
   "metadata": {},
   "source": [
    "* ESTRUTURA DO LOOP COMUN "
   ]
  },
  {
   "cell_type": "code",
   "execution_count": 1,
   "metadata": {},
   "outputs": [
    {
     "name": "stdout",
     "output_type": "stream",
     "text": [
      "[1, 2, 3, 4, 5, 6, 7, 8, 9, 10]\n"
     ]
    }
   ],
   "source": [
    "contagem = []\n",
    "\n",
    "for t in range(1,11):\n",
    "    contagem.append(t)\n",
    "\n",
    "print(contagem)"
   ]
  },
  {
   "cell_type": "markdown",
   "metadata": {},
   "source": [
    "* ESTRUTURA DO LOOP \"FOR\" EM UM LIST COMPREHENSION"
   ]
  },
  {
   "cell_type": "code",
   "execution_count": 4,
   "metadata": {},
   "outputs": [
    {
     "name": "stdout",
     "output_type": "stream",
     "text": [
      "[1, 2, 3, 4, 5, 6, 7, 8, 9, 10]\n"
     ]
    }
   ],
   "source": [
    "contagem2 = [n for n in range(1,11)]\n",
    "print (contagem2)"
   ]
  },
  {
   "cell_type": "code",
   "execution_count": 5,
   "metadata": {},
   "outputs": [
    {
     "name": "stdout",
     "output_type": "stream",
     "text": [
      "[2, 4, 6, 8, 10]\n"
     ]
    }
   ],
   "source": [
    "#da pra usar condicionais no list comprehension\n",
    "contagem3 = [n for n in range(1,11) if (n % 2 == 0)]\n",
    "print(contagem3)"
   ]
  },
  {
   "cell_type": "markdown",
   "metadata": {},
   "source": [
    "* ESTRUTURA DE DIC EM LIST COMPREHENSION"
   ]
  },
  {
   "cell_type": "code",
   "execution_count": 8,
   "metadata": {},
   "outputs": [
    {
     "data": {
      "text/plain": [
       "{0: 'a',\n",
       " 1: 'b',\n",
       " 2: 'c',\n",
       " 3: 'd',\n",
       " 4: 'e',\n",
       " 5: 'f',\n",
       " 6: 'g',\n",
       " 7: 'h',\n",
       " 8: 'i',\n",
       " 9: 'j',\n",
       " 10: 'k',\n",
       " 11: 'l',\n",
       " 12: 'm',\n",
       " 13: 'n',\n",
       " 14: 'o',\n",
       " 15: 'p',\n",
       " 16: 'q',\n",
       " 17: 'r',\n",
       " 18: 's',\n",
       " 19: 't',\n",
       " 20: 'u',\n",
       " 21: 'v',\n",
       " 22: 'w',\n",
       " 23: 'x',\n",
       " 24: 'y',\n",
       " 25: 'z'}"
      ]
     },
     "execution_count": 8,
     "metadata": {},
     "output_type": "execute_result"
    }
   ],
   "source": [
    "#enumerate é uma função buil in do python\n",
    "dicionario = {k : v for k,v in enumerate(\"abcdefghijklmnopqrstuvwxyz\") }\n",
    "#print(dicionario)\n",
    "dicionario\n",
    "# ^ mais facil de visualizar"
   ]
  },
  {
   "cell_type": "code",
   "execution_count": 14,
   "metadata": {},
   "outputs": [
    {
     "data": {
      "text/plain": [
       "{1: 'a1',\n",
       " 2: 'b1',\n",
       " 3: 'c1',\n",
       " 4: 'd1',\n",
       " 5: 'e1',\n",
       " 6: 'f1',\n",
       " 7: 'g1',\n",
       " 8: 'h1',\n",
       " 9: 'i1',\n",
       " 10: 'j1',\n",
       " 11: 'k1',\n",
       " 12: 'l1',\n",
       " 13: 'm1',\n",
       " 14: 'n1',\n",
       " 15: 'o1',\n",
       " 16: 'p1',\n",
       " 17: 'q1',\n",
       " 18: 'r1',\n",
       " 19: 's1',\n",
       " 20: 't1',\n",
       " 21: 'u1',\n",
       " 22: 'v1',\n",
       " 23: 'w1',\n",
       " 24: 'x1',\n",
       " 25: 'y1',\n",
       " 26: 'z1'}"
      ]
     },
     "execution_count": 14,
     "metadata": {},
     "output_type": "execute_result"
    }
   ],
   "source": [
    "#da pra fazer operações(numericas e de concatenaçãod e string) na chave e valor\n",
    "dicionario = {k + 1 : v + '1' for k,v in enumerate(\"abcdefghijklmnopqrstuvwxyz\") }\n",
    "#print(dicionario)\n",
    "dicionario\n",
    "# ^ mais facil de visualizar"
   ]
  },
  {
   "cell_type": "code",
   "execution_count": 17,
   "metadata": {},
   "outputs": [
    {
     "data": {
      "text/plain": [
       "{1: 'b',\n",
       " 2: 'c',\n",
       " 3: 'd',\n",
       " 5: 'f',\n",
       " 6: 'g',\n",
       " 7: 'h',\n",
       " 9: 'j',\n",
       " 10: 'k',\n",
       " 11: 'l',\n",
       " 12: 'm',\n",
       " 13: 'n',\n",
       " 15: 'p',\n",
       " 16: 'q',\n",
       " 17: 'r',\n",
       " 18: 's',\n",
       " 19: 't',\n",
       " 21: 'v',\n",
       " 22: 'w',\n",
       " 23: 'x',\n",
       " 24: 'y',\n",
       " 25: 'z'}"
      ]
     },
     "execution_count": 17,
     "metadata": {},
     "output_type": "execute_result"
    }
   ],
   "source": [
    "#da para usar condicionais tambem\n",
    "dicionario = {k : v for k,v in enumerate(\"abcdefghijklmnopqrstuvwxyz\") if v not in ('a','e','i','o','u') }\n",
    "#print(dicionario)\n",
    "dicionario\n",
    "# ^ mais facil de visualizar"
   ]
  },
  {
   "cell_type": "code",
   "execution_count": 19,
   "metadata": {},
   "outputs": [
    {
     "name": "stdout",
     "output_type": "stream",
     "text": [
      "{0: 'a', 4: 'e', 8: 'i', 14: 'o', 20: 'u'}\n"
     ]
    }
   ],
   "source": [
    "dicionario = {k : v for k,v in enumerate(\"abcdefghijklmnopqrstuvwxyz\") if v in ('a','e','i','o','u') }\n",
    "print(dicionario)"
   ]
  }
 ],
 "metadata": {
  "kernelspec": {
   "display_name": "Python 3",
   "language": "python",
   "name": "python3"
  },
  "language_info": {
   "codemirror_mode": {
    "name": "ipython",
    "version": 3
   },
   "file_extension": ".py",
   "mimetype": "text/x-python",
   "name": "python",
   "nbconvert_exporter": "python",
   "pygments_lexer": "ipython3",
   "version": "3.8.5"
  }
 },
 "nbformat": 4,
 "nbformat_minor": 4
}
