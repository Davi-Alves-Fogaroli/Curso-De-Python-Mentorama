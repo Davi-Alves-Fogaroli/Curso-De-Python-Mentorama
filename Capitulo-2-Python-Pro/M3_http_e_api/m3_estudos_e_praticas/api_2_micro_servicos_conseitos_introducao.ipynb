{
 "cells": [
  {
   "cell_type": "markdown",
   "metadata": {},
   "source": [
    "# API\n",
    "\n",
    "#### Em redes sociais a interação é feita por interfasses graficas\n",
    "#### A interação com scripts altomatisados, fica dificil sem padrões, e as api fornecem esses padrões e formas de interagir com as aplicações\n",
    "\n",
    "### Arquitetura de MICRO SERVIÇOS e as API:\n",
    "- Micro serviço é quando uma aplicação grande é dividida em pequenas partes, e cada uma delas é responsavel por um serviço especifico\n",
    "- Na MAIORIA das vezes esse micros serviços se comunição por API\n",
    "\n",
    "- Ajuda aplicações separadas a se comunicarem\n",
    "- Ajuda na interação com scriptis, fornecendos padrões e meios para tal\n",
    "\n",
    "- Melhora a organização do codigo. \n",
    "    *Ex: quando ocorre um erro especifico, pelo fato de sua aplicação estar separada em micros serviços fica mais facil de identificar a origem do problema/falha e corrigilo\n",
    "- Por alguns serviços de uma aplicação não serem exenciais para o funcionamento da aplicação, o fato desse serviço dar erro e precisar de manutenção pode parar toda a aplicação. Ja com micro serviços isso não ocorre, pois se esse serviço der problema ele pode ficar em stand-by(ate ser consertado) sem afetar o resto da aplicação\n",
    "-\n"
   ]
  },
  {
   "cell_type": "code",
   "execution_count": null,
   "metadata": {},
   "outputs": [],
   "source": []
  }
 ],
 "metadata": {
  "kernelspec": {
   "display_name": "Python 3",
   "language": "python",
   "name": "python3"
  },
  "language_info": {
   "codemirror_mode": {
    "name": "ipython",
    "version": 3
   },
   "file_extension": ".py",
   "mimetype": "text/x-python",
   "name": "python",
   "nbconvert_exporter": "python",
   "pygments_lexer": "ipython3",
   "version": "3.8.5"
  }
 },
 "nbformat": 4,
 "nbformat_minor": 4
}
